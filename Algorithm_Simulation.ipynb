{
 "cells": [
  {
   "cell_type": "markdown",
   "metadata": {},
   "source": [
    "# Spectral Clustering"
   ]
  },
  {
   "cell_type": "markdown",
   "metadata": {},
   "source": [
    "### Project members:\n",
    "Mengshu Shao, Yelena Kernogitski\n",
    "\n",
    "### GitHub Repositories: \n",
    "https://github.com/yelenakernogitski/Spectral-Clustering-Project"
   ]
  },
  {
   "cell_type": "markdown",
   "metadata": {},
   "source": [
    "## Abstract\n",
    "Clustering is one of the building blocks in modern data analysis, and has been widely used in machine learning and pattern recognition. Two commonly used approaches are K-means and learning a mixture model using EM. However, these methods have some drawbacks, such as violation of the harsh simplifying assumption which the density of each cluster is Gaussian. One method that provides a possible solution in finding useful clusters is spectral clustering, which utilizes eigenvectors derived from the distance between points. The method performs dimensionality reduction in order to find clusters. In this report, First we implement a simple spectral clustering algorithm for clustering points in . Second we analyze how it works in “ideal” case in which the points are exactly far apart (i.e., when affinity matrix s strictly block diagonal), and in general case in which affinity’s off-diagonal blocks are non-zero. Then we test the algorithm by applying it to a number of challenging clustering problems. Further, we attempt to optimize the algorithm using within-Python options (such as vectorization) in addition to JIT and Cython wrapping functions. Finally, we compare the original method in Python and the latter, higher performance method by determining the efficiency of each method. \n"
   ]
  },
  {
   "cell_type": "markdown",
   "metadata": {},
   "source": [
    "## Introduction"
   ]
  },
  {
   "cell_type": "markdown",
   "metadata": {},
   "source": [
    "A significant aim of machine learning and pattern recognition is finding appropriate clusters that are able to accurately classify data points. Two standard approaches used in clustering are K-means and Expectation-Maximazation which allow for learning a mixture model. The latter has severe drawbacks where we must estimate the density of each cluster to be Gaussian due to parametric assumptions, and the log likelihood may result in getting caught in a local minima, and many various initial values may need to be used [1]. K-means clustering by itself leads to other problems, such as not being able to accomodate non-spherical data, and other complex datasets. A method that provides a possible solution in finding useful clusters in spectral clustering, which utilizes eigenvectors derived from the distance between points. An additional part of our algorithm uses the eigenvectors found in K-means clustering, as opposed to using the original dataset found. It has been found in empirical studies that the latter method is more accurate in classifying clusters [1]. In this report, we first implement a simple spectral clustering algorithm for clustering point in $\\mathbb{R}^n$. Second, we analyze how it works in an \"ideal\" case in which the points are exactly far apart. Then we apply the algorithm to a number of challenging clustering problems. We will attempt to optimize our algorithm by using various methods--such as vectorization, JIT, and cython wrapping funcions. "
   ]
  },
  {
   "cell_type": "markdown",
   "metadata": {},
   "source": [
    "## Spectral Clustering Algorithm"
   ]
  },
  {
   "cell_type": "markdown",
   "metadata": {},
   "source": [
    "Our algorithm has been previously described in (Ng et al, 2002). Provided a set of points $S= {s_1,...,s_n}$ in $\\mathbb{R}^l$ that we want to clsuter into $k$ subsets:\n",
    "\n",
    "1. Define the affinity matrix $A$ $\\mathbb{R}^{nxn}$ by $A_{ij}=exp(-||s_i-s_j||^2 / 2\\sigma^2)$ if $i\\neq{j}$, and $A_{ii}=0$.\n",
    "    \n",
    "2. Create a diagonal matrix whose ($i$,$i$) element is the sum of $A's$ i-th row, and construct L, where $L= D^{-1/2}AD^{-1/2}$.\n",
    "    \n",
    "3. Find ${x_1,...,x_n}$, the $k$ largest eigenvectors of $L$, and create the matrix $X$, by placing the k eigenvectors in columns.\n",
    "    \n",
    "4. Use $X$ to form the matrix $Y$, by normalizing each X's rows to have unit length (i.e. $Y_{ij}=X_{ij}/(\\sum_{j}{}X_{ij}^2)^{1/2}$). \n",
    "    \n",
    "5. Treating each row of $Y$ as a point in $\\mathbb{R}^k$, cluster into $k$ clusters using K-means\n",
    "    \n",
    "6. Assign the original point $s_i$ to cluster $j$ if row $i$ of the matrix $Y$ was assigned to cluster $j$. "
   ]
  },
  {
   "cell_type": "markdown",
   "metadata": {},
   "source": [
    "Our scaling parameter $\\sigma^2$ was found by minimizing the distortion of the Y matrix and the clustering centers that correspond to each assigned cluster. The distortion was found by summing over the Euclidean distances between each data point and the center of its assigned cluster. We found $\\sigma^2$ by using an iterative procedure to find which value of $\\sigma^2$ minimized the distortion. Generally, $\\sigma^2$ can be determined using human input, but this process automizes the procedure. "
   ]
  },
  {
   "cell_type": "markdown",
   "metadata": {},
   "source": [
    "### Algorithm"
   ]
  },
  {
   "cell_type": "code",
   "execution_count": 48,
   "metadata": {
    "collapsed": false
   },
   "outputs": [],
   "source": [
    "import numpy as np\n",
    "import scipy.linalg as la\n",
    "from numpy.core.umath_tests import inner1d\n",
    "%matplotlib inline\n",
    "import warnings\n",
    "warnings.filterwarnings(\"ignore\")\n",
    "import pandas as pd\n",
    "from matplotlib import pyplot as plt\n",
    "from more_itertools import unique_everseen\n",
    "import numba\n",
    "from numba import *\n",
    "import time"
   ]
  },
  {
   "cell_type": "code",
   "execution_count": 3,
   "metadata": {
    "collapsed": false
   },
   "outputs": [],
   "source": [
    "s = np.array([[2,1], [3,4], [5,4]])"
   ]
  },
  {
   "cell_type": "markdown",
   "metadata": {},
   "source": [
    "#### Form the affinity matrix"
   ]
  },
  {
   "cell_type": "code",
   "execution_count": 4,
   "metadata": {
    "collapsed": false
   },
   "outputs": [],
   "source": [
    "n = np.shape(s)[0]\n",
    "def affinity(s, var):\n",
    "    A = np.zeros((n, n))\n",
    "    for i in range(n):\n",
    "        for j in range(n):\n",
    "            A[i, i] = 0\n",
    "            A[i,j] = np.exp(-(la.norm(s[i] - s[j])**2) / (2*var))\n",
    "    return A\n",
    "\n",
    "A=affinity(s,1)"
   ]
  },
  {
   "cell_type": "markdown",
   "metadata": {},
   "source": [
    "#### Define D and L"
   ]
  },
  {
   "cell_type": "code",
   "execution_count": 5,
   "metadata": {
    "collapsed": false
   },
   "outputs": [
    {
     "data": {
      "text/plain": [
       "array([[ 145.74376886,    0.        ,    0.        ],\n",
       "       [   0.        ,    7.03862366,    0.        ],\n",
       "       [   0.        ,    0.        ,    0.88070135]])"
      ]
     },
     "execution_count": 5,
     "metadata": {},
     "output_type": "execute_result"
    }
   ],
   "source": [
    "D = np.zeros((n, n))\n",
    "for i in range(n):\n",
    "    D[i, i] = 1 / (A[i].sum())\n",
    "D"
   ]
  },
  {
   "cell_type": "code",
   "execution_count": 6,
   "metadata": {
    "collapsed": false
   },
   "outputs": [
    {
     "data": {
      "text/plain": [
       "array([[ 0.        ,  0.21580746,  0.00139817],\n",
       "       [ 0.21580746,  0.        ,  0.33695293],\n",
       "       [ 0.00139817,  0.33695293,  0.88070135]])"
      ]
     },
     "execution_count": 6,
     "metadata": {},
     "output_type": "execute_result"
    }
   ],
   "source": [
    "L = np.sqrt(D).dot(A).dot(np.sqrt(D))\n",
    "L"
   ]
  },
  {
   "cell_type": "markdown",
   "metadata": {},
   "source": [
    "#### Find the k largest eigenvectors of L"
   ]
  },
  {
   "cell_type": "code",
   "execution_count": 7,
   "metadata": {
    "collapsed": true
   },
   "outputs": [],
   "source": [
    "value, vector = la.eig(L)"
   ]
  },
  {
   "cell_type": "code",
   "execution_count": 8,
   "metadata": {
    "collapsed": false
   },
   "outputs": [
    {
     "data": {
      "text/plain": [
       "array([[ 0.07308967,  0.79087251, -0.60760067],\n",
       "       [ 0.33258841,  0.5550276 ,  0.76244954],\n",
       "       [ 0.94023553, -0.25780813, -0.22246825]])"
      ]
     },
     "execution_count": 8,
     "metadata": {},
     "output_type": "execute_result"
    }
   ],
   "source": [
    "idx = np.argsort(value)[::-1]\n",
    "value = value[idx]\n",
    "vector = vector[:, idx]\n",
    "vector"
   ]
  },
  {
   "cell_type": "code",
   "execution_count": 9,
   "metadata": {
    "collapsed": false
   },
   "outputs": [
    {
     "data": {
      "text/plain": [
       "array([[ 0.07308967,  0.79087251],\n",
       "       [ 0.33258841,  0.5550276 ],\n",
       "       [ 0.94023553, -0.25780813]])"
      ]
     },
     "execution_count": 9,
     "metadata": {},
     "output_type": "execute_result"
    }
   ],
   "source": [
    "k = 2\n",
    "X = vector[:, 0:k]\n",
    "X"
   ]
  },
  {
   "cell_type": "markdown",
   "metadata": {},
   "source": [
    "#### Form the matrix Y"
   ]
  },
  {
   "cell_type": "code",
   "execution_count": 10,
   "metadata": {
    "collapsed": false
   },
   "outputs": [
    {
     "data": {
      "text/plain": [
       "array([[ 0.08459823,  0.91540177],\n",
       "       [ 0.37469853,  0.62530147],\n",
       "       [ 1.37778103, -0.37778103]])"
      ]
     },
     "execution_count": 10,
     "metadata": {},
     "output_type": "execute_result"
    }
   ],
   "source": [
    "Y = X / np.sum(X, 1)[:, np.newaxis]\n",
    "Y"
   ]
  },
  {
   "cell_type": "markdown",
   "metadata": {},
   "source": [
    "#### K-means clustering"
   ]
  },
  {
   "cell_type": "code",
   "execution_count": 11,
   "metadata": {
    "collapsed": true
   },
   "outputs": [],
   "source": [
    "def kmeans(y, k, max_iter=10):\n",
    "    idx = np.random.choice(len(y), k, replace=False)\n",
    "    idx_data = y[idx]\n",
    "    for i in range(max_iter):\n",
    "        dist = np.array([inner1d(y-c, y-c) for c in idx_data])\n",
    "        clusters = np.argmin(dist, axis=0)\n",
    "        idx_data = np.array([y[clusters==i].mean(axis=0) for i in range(k)])\n",
    "    return (clusters, idx_data)"
   ]
  },
  {
   "cell_type": "code",
   "execution_count": 12,
   "metadata": {
    "collapsed": false
   },
   "outputs": [],
   "source": [
    "clusters,data=kmeans(Y, 2, max_iter=10)"
   ]
  },
  {
   "cell_type": "markdown",
   "metadata": {},
   "source": [
    "#### Assign the original point S to clusters"
   ]
  },
  {
   "cell_type": "code",
   "execution_count": 13,
   "metadata": {
    "collapsed": false
   },
   "outputs": [],
   "source": [
    "dat=np.concatenate((s, clusters.reshape((3,1))), axis = 1)"
   ]
  },
  {
   "cell_type": "code",
   "execution_count": 14,
   "metadata": {
    "collapsed": false
   },
   "outputs": [],
   "source": [
    "s=pd.DataFrame(s)\n",
    "s['cluster'] = clusters\n",
    "b=pd.DataFrame(data)\n",
    "cluster=range(len(b))\n",
    "b['cluster']=cluster\n",
    "x=pd.merge(s, b, on='cluster', how='outer')\n",
    "c=x.ix[:,0:s.shape[1]-1] \n",
    "c=np.array(c)\n",
    "d=x.ix[:,s.shape[1]:x.shape[1]]\n",
    "d=np.array(d)"
   ]
  },
  {
   "cell_type": "code",
   "execution_count": 15,
   "metadata": {
    "collapsed": false
   },
   "outputs": [],
   "source": [
    "def dist(x,y):   \n",
    "    return np.sum((x-y)**2)\n",
    "\n",
    "#dist(c[0],d[0])\n",
    "#allz=[]\n",
    "#for i in range(0,len(x)):\n",
    "#    allz.append(dist(c[i],d[i]))\n",
    "#sum(allz)"
   ]
  },
  {
   "cell_type": "markdown",
   "metadata": {},
   "source": [
    "#### Find the best $\\sigma^2$"
   ]
  },
  {
   "cell_type": "code",
   "execution_count": 16,
   "metadata": {
    "collapsed": false
   },
   "outputs": [],
   "source": [
    "def affinity(s, var):\n",
    "    n = np.shape(s)[0]\n",
    "    A = np.zeros((n, n))\n",
    "    for i in range(n):\n",
    "        for j in range(n):\n",
    "            A[i, i] = 0\n",
    "            A[i,j] = np.exp(-(la.norm(s[i] - s[j])**2) / (2*var))\n",
    "    return A\n",
    "\n",
    "def kmeans(y, k, max_iter=100):\n",
    "    idx = np.random.choice(len(y), k, replace=False)\n",
    "    idx_data = y[idx]\n",
    "    for i in range(max_iter):\n",
    "        dist = np.array([inner1d(y-c, y-c) for c in idx_data])\n",
    "        clusters = np.argmin(dist, axis=0)\n",
    "        idx_data = np.array([y[clusters==i].mean(axis=0) for i in range(k)])\n",
    "    return (clusters, idx_data)\n",
    "\n",
    "\n",
    "def findbestvar(s,vari,k):                  #to find best variance\n",
    "    n = np.shape(s)[0]\n",
    "    dis=[]\n",
    "    for j in range(len(vari)):\n",
    "        var=vari[j]\n",
    "        A=affinity(s,var)\n",
    "        D = np.zeros((n, n))\n",
    "        for i in range(n):\n",
    "            D[i, i] = 1 / (A[i].sum())\n",
    "\n",
    "        D = np.zeros((n, n))\n",
    "        for i in range(n):\n",
    "            D[i, i] = 1 / (A[i].sum())\n",
    "\n",
    "        L = np.sqrt(D).dot(A).dot(np.sqrt(D))\n",
    "\n",
    "        value, vector = la.eig(L)\n",
    "\n",
    "        idx = np.argsort(value)[::-1]\n",
    "        value = value[idx]\n",
    "        vector = vector[:, idx]\n",
    "\n",
    "        X = vector[:, 0:k]\n",
    "        Y = X / np.sum(X, 1)[:, np.newaxis]\n",
    "\n",
    "        clusters,data=kmeans(Y, k, max_iter=100)\n",
    "\n",
    "        snew=pd.DataFrame(s)\n",
    "        snew['cluster'] = clusters\n",
    "        b=pd.DataFrame(data)\n",
    "        cluster=list(unique_everseen(clusters))\n",
    "        b['cluster']=cluster\n",
    "        x=pd.merge(snew, b, on='cluster', how='outer')\n",
    "        c=x.ix[:,0:snew.shape[1]-1] \n",
    "        c=np.array(c)\n",
    "        d=x.ix[:,snew.shape[1]:x.shape[1]]\n",
    "        d=np.array(d)\n",
    "        distance=dist(c,d)\n",
    "\n",
    "        dis.append(distance)\n",
    "    \n",
    "    bestvar=np.argmin(dis)\n",
    "    return(vari[bestvar])\n"
   ]
  },
  {
   "cell_type": "code",
   "execution_count": 17,
   "metadata": {
    "collapsed": true
   },
   "outputs": [],
   "source": [
    "def finalclustering(s,k,var):\n",
    "    n = np.shape(s)[0]\n",
    "    A=affinity(s,var)\n",
    "    D = np.zeros((n, n))\n",
    "    for i in range(n):\n",
    "        D[i, i] = 1 / (A[i].sum())\n",
    "    D = np.zeros((n, n))\n",
    "    for i in range(n):\n",
    "        D[i, i] = 1 / (A[i].sum())\n",
    "\n",
    "    L = np.sqrt(D).dot(A).dot(np.sqrt(D))\n",
    "\n",
    "    value, vector = la.eig(L)\n",
    "\n",
    "    idx = np.argsort(value)[::-1]\n",
    "    value = value[idx]\n",
    "    vector = vector[:, idx]\n",
    "\n",
    "    X = vector[:, 0:k]\n",
    "    Y = X / np.sum(X, 1)[:, np.newaxis]\n",
    "\n",
    "    clusters,data=kmeans(Y, k, max_iter=10)\n",
    "    final=np.concatenate((s, clusters.reshape((len(clusters),1))), axis = 1)\n",
    "    return(final,data,clusters)"
   ]
  },
  {
   "cell_type": "code",
   "execution_count": 18,
   "metadata": {
    "collapsed": false
   },
   "outputs": [],
   "source": [
    "s = np.array([[2,1], [3,4], [5,4]]) \n",
    "\n",
    "vari= np.linspace(.01, 4, 1000)\n",
    "k = 2\n",
    "bestvariance=findbestvar(s,vari,k)"
   ]
  },
  {
   "cell_type": "code",
   "execution_count": 19,
   "metadata": {
    "collapsed": false
   },
   "outputs": [
    {
     "data": {
      "text/plain": [
       "0.82477477477477479"
      ]
     },
     "execution_count": 19,
     "metadata": {},
     "output_type": "execute_result"
    }
   ],
   "source": [
    "bestvariance"
   ]
  },
  {
   "cell_type": "code",
   "execution_count": 20,
   "metadata": {
    "collapsed": false
   },
   "outputs": [
    {
     "name": "stdout",
     "output_type": "stream",
     "text": [
      "[[2 1 1]\n",
      " [3 4 1]\n",
      " [5 4 0]]\n",
      "[[ 1.27047694 -0.27047694]\n",
      " [ 0.18833126  0.81166874]]\n",
      "[1 1 0]\n"
     ]
    }
   ],
   "source": [
    "finalclustering(s,k,var=bestvariance)\n",
    "\n",
    "x,y,z=finalclustering(s,k,var=bestvariance)\n",
    "print(x)\n",
    "print(y)\n",
    "print(z)"
   ]
  },
  {
   "cell_type": "markdown",
   "metadata": {},
   "source": [
    "### Test algorithm on simulated datasets"
   ]
  },
  {
   "cell_type": "code",
   "execution_count": 21,
   "metadata": {
    "collapsed": false
   },
   "outputs": [],
   "source": [
    "#num = 50\n",
    "#s = np.random.multivariate_normal([7,9], [[3, 5],[3, 5]], 25)\n",
    "#s2 = np.random.multivariate_normal([15,19], [[3, 5],[3, 5]], 25)\n",
    "#s = np.array([[2,1], [3,4], [5,4]])\n",
    "#s=np.concatenate((s, s2), axis=0)\n",
    "\n",
    "from sklearn.cluster import KMeans\n",
    "from sklearn.datasets.samples_generator import make_blobs\n",
    "\n",
    "\n",
    "batch_size = 50\n",
    "centers = [[5, 5], [10, 10]]\n",
    "n_clusters = len(centers)\n",
    "X, labels_true = make_blobs(n_samples=50, centers=centers, cluster_std=0.7)\n",
    "\n",
    "s=X\n"
   ]
  },
  {
   "cell_type": "code",
   "execution_count": 22,
   "metadata": {
    "collapsed": false
   },
   "outputs": [],
   "source": [
    "vari= np.linspace(0.01, 10, 1000)\n",
    "k = 2\n",
    "bestvariance=findbestvar(s,vari,k)"
   ]
  },
  {
   "cell_type": "code",
   "execution_count": 23,
   "metadata": {
    "collapsed": false
   },
   "outputs": [],
   "source": [
    "final,centers,clusters=finalclustering(s,k,var=bestvariance)"
   ]
  },
  {
   "cell_type": "code",
   "execution_count": 38,
   "metadata": {
    "collapsed": false
   },
   "outputs": [
    {
     "data": {
      "text/plain": [
       "<matplotlib.collections.PathCollection at 0x10c2b4fd0>"
      ]
     },
     "execution_count": 38,
     "metadata": {},
     "output_type": "execute_result"
    },
    {
     "data": {
      "image/png": "[encoded data removed]",
      "text/plain": [
       "<matplotlib.figure.Figure at 0x10c271dd8>"
      ]
     },
     "metadata": {},
     "output_type": "display_data"
    }
   ],
   "source": [
    "import matplotlib.cm as cm\n",
    "fig, ax = plt.subplots()\n",
    "ax.scatter(final[:,0],final[:,1],c=final[:,2],cmap=cm.rainbow)"
   ]
  },
  {
   "cell_type": "markdown",
   "metadata": {},
   "source": [
    "### Test algorithm on challenging clustering problems"
   ]
  },
  {
   "cell_type": "code",
   "execution_count": 39,
   "metadata": {
    "collapsed": false
   },
   "outputs": [],
   "source": [
    "### creating challenging datasets\n",
    "\n",
    "from sklearn import cluster, datasets\n",
    "from sklearn.neighbors import kneighbors_graph\n",
    "from sklearn.preprocessing import StandardScaler\n",
    "\n",
    "\n",
    "n_samples = 50\n",
    "noisy_circles = datasets.make_circles(n_samples=n_samples, factor=.5,\n",
    "                                      noise=.05)\n",
    "noisy_moons = datasets.make_moons(n_samples=n_samples, noise=.05)\n",
    "blobs = datasets.make_blobs(n_samples=n_samples, random_state=8)\n",
    "no_structure = np.random.rand(n_samples, 2), None\n",
    "\n",
    "datasets = [noisy_circles, noisy_moons, blobs, no_structure]\n",
    "s,y=datasets[0]\n"
   ]
  },
  {
   "cell_type": "code",
   "execution_count": 41,
   "metadata": {
    "collapsed": false
   },
   "outputs": [
    {
     "data": {
      "text/plain": [
       "<matplotlib.collections.PathCollection at 0x10b21ffd0>"
      ]
     },
     "execution_count": 41,
     "metadata": {},
     "output_type": "execute_result"
    },
    {
     "data": {
      "image/png": "[encoded data removed]",
      "text/plain": [
       "<matplotlib.figure.Figure at 0x10c2e3e10>"
      ]
     },
     "metadata": {},
     "output_type": "display_data"
    }
   ],
   "source": [
    "vari= np.linspace(0.01, 10, 1000)\n",
    "k = 2\n",
    "bestvariance=findbestvar(s,vari,k)\n",
    "final,centers,clusters=finalclustering(s,k,var=bestvariance)\n",
    "fig, ax = plt.subplots()\n",
    "ax.scatter(final[:,0],final[:,1],c=final[:,2],cmap=cm.rainbow)"
   ]
  },
  {
   "cell_type": "code",
   "execution_count": 42,
   "metadata": {
    "collapsed": false,
    "scrolled": true
   },
   "outputs": [
    {
     "data": {
      "text/plain": [
       "<matplotlib.collections.PathCollection at 0x10b5f7080>"
      ]
     },
     "execution_count": 42,
     "metadata": {},
     "output_type": "execute_result"
    },
    {
     "data": {
      "image/png": "[encoded data removed]",
      "text/plain": [
       "<matplotlib.figure.Figure at 0x10b5d3e10>"
      ]
     },
     "metadata": {},
     "output_type": "display_data"
    }
   ],
   "source": [
    "s,y=datasets[1]\n",
    "vari= np.linspace(0.01, 10, 1000)\n",
    "k = 2\n",
    "bestvariance=findbestvar(s,vari,k)\n",
    "final,centers,clusters=finalclustering(s,k,var=bestvariance)\n",
    "fig, ax = plt.subplots()\n",
    "ax.scatter(final[:,0],final[:,1],c=final[:,2],cmap=cm.rainbow)\n"
   ]
  },
  {
   "cell_type": "code",
   "execution_count": 43,
   "metadata": {
    "collapsed": false
   },
   "outputs": [
    {
     "data": {
      "text/plain": [
       "<matplotlib.collections.PathCollection at 0x10b5e79e8>"
      ]
     },
     "execution_count": 43,
     "metadata": {},
     "output_type": "execute_result"
    },
    {
     "data": {
      "image/png": "[encoded data removed]",
      "text/plain": [
       "<matplotlib.figure.Figure at 0x10c2815c0>"
      ]
     },
     "metadata": {},
     "output_type": "display_data"
    }
   ],
   "source": [
    "s,y=datasets[2]\n",
    "vari= np.linspace(.3, 20, 1000)\n",
    "k = 2\n",
    "bestvariance=findbestvar(s,vari,k)\n",
    "final,centers,clusters=finalclustering(s,k,var=bestvariance)\n",
    "fig, ax = plt.subplots()\n",
    "ax.scatter(final[:,0],final[:,1],c=final[:,2],cmap=cm.rainbow)"
   ]
  },
  {
   "cell_type": "code",
   "execution_count": 44,
   "metadata": {
    "collapsed": false,
    "scrolled": true
   },
   "outputs": [
    {
     "data": {
      "text/plain": [
       "<matplotlib.collections.PathCollection at 0x10c8abfd0>"
      ]
     },
     "execution_count": 44,
     "metadata": {},
     "output_type": "execute_result"
    },
    {
     "data": {
      "image/png": "[encoded data removed]",
      "text/plain": [
       "<matplotlib.figure.Figure at 0x10b4eedd8>"
      ]
     },
     "metadata": {},
     "output_type": "display_data"
    }
   ],
   "source": [
    "s,y=datasets[3]\n",
    "vari= np.linspace(0.01, 10, 100)\n",
    "k = 2\n",
    "bestvariance=findbestvar(s,vari,k)\n",
    "final,centers,clusters=finalclustering(s,k,var=bestvariance)\n",
    "fig, ax = plt.subplots()\n",
    "ax.scatter(final[:,0],final[:,1],c=final[:,2],cmap=cm.rainbow)"
   ]
  },
  {
   "cell_type": "markdown",
   "metadata": {},
   "source": [
    "### Speed up with JIT"
   ]
  },
  {
   "cell_type": "code",
   "execution_count": 51,
   "metadata": {
    "collapsed": true
   },
   "outputs": [],
   "source": [
    "@jit()\n",
    "def finalclustering_numba(s,k,var):\n",
    "    n = np.shape(s)[0]\n",
    "    A=affinity(s,var)\n",
    "    D = np.zeros((n, n))\n",
    "    for i in range(n):\n",
    "        D[i, i] = 1 / (A[i].sum())\n",
    "    D = np.zeros((n, n))\n",
    "    for i in range(n):\n",
    "        D[i, i] = 1 / (A[i].sum())\n",
    "\n",
    "    L = np.sqrt(D).dot(A).dot(np.sqrt(D))\n",
    "\n",
    "    value, vector = la.eig(L)\n",
    "\n",
    "    idx = np.argsort(value)[::-1]\n",
    "    value = value[idx]\n",
    "    vector = vector[:, idx]\n",
    "\n",
    "    X = vector[:, 0:k]\n",
    "    Y = X / np.sum(X, 1)[:, np.newaxis]\n",
    "\n",
    "    clusters,data=kmeans(Y, k, max_iter=10)\n",
    "    final=np.concatenate((s, clusters.reshape((len(clusters),1))), axis = 1)\n",
    "    return(final,data,clusters)"
   ]
  },
  {
   "cell_type": "markdown",
   "metadata": {},
   "source": [
    "### Speed up with Cython"
   ]
  },
  {
   "cell_type": "markdown",
   "metadata": {},
   "source": [
    "### Compare the ratio of speed-up"
   ]
  },
  {
   "cell_type": "code",
   "execution_count": 52,
   "metadata": {
    "collapsed": true
   },
   "outputs": [],
   "source": [
    "def timer(f, *args, **kwargs):\n",
    "    start = time.clock()\n",
    "    ans = f(*args, **kwargs)\n",
    "    return ans, time.clock() - start"
   ]
  },
  {
   "cell_type": "code",
   "execution_count": 53,
   "metadata": {
    "collapsed": true
   },
   "outputs": [],
   "source": [
    "def report(fs, *args, **kwargs):\n",
    "    ans, t = timer(fs[0], *args, **kwargs)\n",
    "    print('%s: %.1f' % (fs[0].__name__, 1.0))  \n",
    "    for f in fs[1:]:\n",
    "        ans_, t_ = timer(f, *args, **kwargs)\n",
    "        print('%s: %.1f' % (f.__name__, t/t_))"
   ]
  },
  {
   "cell_type": "code",
   "execution_count": 63,
   "metadata": {
    "collapsed": true
   },
   "outputs": [],
   "source": [
    "s,y=datasets[0]\n",
    "vari= np.linspace(0.01, 10, 100)\n",
    "k = 2\n",
    "bestvariance=findbestvar(s,vari,k)"
   ]
  },
  {
   "cell_type": "code",
   "execution_count": 64,
   "metadata": {
    "collapsed": false,
    "scrolled": true
   },
   "outputs": [
    {
     "name": "stdout",
     "output_type": "stream",
     "text": [
      "finalclustering: 1.0\n",
      "finalclustering_numba: 0.9\n"
     ]
    }
   ],
   "source": [
    "report([finalclustering,finalclustering_numba],s,k,var=bestvariance)"
   ]
  },
  {
   "cell_type": "markdown",
   "metadata": {},
   "source": [
    "## References"
   ]
  },
  {
   "cell_type": "markdown",
   "metadata": {},
   "source": [
    "#### 1. Ng, Andrew Y., Michael I. Jordan, and Yair Weiss. \"On spectral clustering: Analysis and an algorithm.\" Advances in neural information processing systems 2 (2002): 849-856."
   ]
  },
  {
   "cell_type": "code",
   "execution_count": null,
   "metadata": {
    "collapsed": true
   },
   "outputs": [],
   "source": []
  }
 ],
 "metadata": {
  "kernelspec": {
   "display_name": "Python 3",
   "language": "python",
   "name": "python3"
  },
  "language_info": {
   "codemirror_mode": {
    "name": "ipython",
    "version": 3
   },
   "file_extension": ".py",
   "mimetype": "text/x-python",
   "name": "python",
   "nbconvert_exporter": "python",
   "pygments_lexer": "ipython3",
   "version": "3.5.1"
  }
 },
 "nbformat": 4,
 "nbformat_minor": 0
}
