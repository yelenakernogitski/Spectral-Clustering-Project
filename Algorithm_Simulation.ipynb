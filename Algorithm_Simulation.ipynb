{
 "cells": [
  {
   "cell_type": "markdown",
   "metadata": {},
   "source": [
    "# Spectral Clustering"
   ]
  },
  {
   "cell_type": "markdown",
   "metadata": {},
   "source": [
    "### Project members:\n",
    "Mengshu Shao, Yelena Kernogitski\n",
    "\n",
    "### GitHub Repositories: \n",
    "https://github.com/yelenakernogitski/Spectral-Clustering-Project"
   ]
  },
  {
   "cell_type": "markdown",
   "metadata": {},
   "source": [
    "### Abstract\n",
    "Clustering is one of the building blocks in modern data analysis, and has been widely used in machine learning and pattern recognition. Two commonly used approaches are K-means and learning a mixture model using EM. However, these methods have some drawbacks, such as violation of the harsh simplifying assumption which the density of each cluster is Gaussian. One method that provides a possible solution in finding useful clusters is spectral clustering, which utilizes eigenvectors derived from the distance between points. The method performs dimensionality reduction in order to find clusters. In this report, First we implement a simple spectral clustering algorithm for clustering points in . Second we analyze how it works in “ideal” case in which the points are exactly far apart (i.e., when affinity matrix s strictly block diagonal), and in general case in which affinity’s off-diagonal blocks are non-zero. Then we test the algorithm by applying it to a number of challenging clustering problems. Further, we attempt to optimize the algorithm using within-Python options (such as vectorization) in addition to JIT and Cython wrapping functions. Finally, we compare the original method in Python and the latter, higher performance method by determining the efficiency of each method. \n"
   ]
  },
  {
   "cell_type": "markdown",
   "metadata": {},
   "source": [
    "### Algorithm"
   ]
  },
  {
   "cell_type": "code",
   "execution_count": 48,
   "metadata": {
    "collapsed": true
   },
   "outputs": [],
   "source": [
    "import numpy as np\n",
    "import scipy.linalg as la\n",
    "from numpy.core.umath_tests import inner1d\n",
    "%matplotlib inline\n",
    "import pandas as pd\n",
    "from matplotlib import pyplot as plt"
   ]
  },
  {
   "cell_type": "code",
   "execution_count": 8,
   "metadata": {
    "collapsed": false
   },
   "outputs": [],
   "source": [
    "s = np.array([[2,1], [3,4], [5,4]])"
   ]
  },
  {
   "cell_type": "markdown",
   "metadata": {},
   "source": [
    "#### Form the affinity matrix"
   ]
  },
  {
   "cell_type": "code",
   "execution_count": 10,
   "metadata": {
    "collapsed": false
   },
   "outputs": [
    {
     "data": {
      "text/plain": [
       "array([[  0.00000000e+00,   6.73794700e-03,   1.23409804e-04],\n",
       "       [  6.73794700e-03,   0.00000000e+00,   1.35335283e-01],\n",
       "       [  1.23409804e-04,   1.35335283e-01,   1.00000000e+00]])"
      ]
     },
     "execution_count": 10,
     "metadata": {},
     "output_type": "execute_result"
    }
   ],
   "source": [
    "n = np.shape(s)[0]\n",
    "def affinity(s, var):\n",
    "    A = np.zeros((n, n))\n",
    "    for i in range(n):\n",
    "        for j in range(n):\n",
    "            A[i, i] = 0\n",
    "            A[i,j] = np.exp(-(la.norm(s[i] - s[j])**2) / (2*var))\n",
    "    return A\n",
    "\n",
    "A=affinity(s,1)"
   ]
  },
  {
   "cell_type": "markdown",
   "metadata": {},
   "source": [
    "#### Define D and L"
   ]
  },
  {
   "cell_type": "code",
   "execution_count": 11,
   "metadata": {
    "collapsed": false
   },
   "outputs": [
    {
     "data": {
      "text/plain": [
       "array([[ 145.74376886,    0.        ,    0.        ],\n",
       "       [   0.        ,    7.03862366,    0.        ],\n",
       "       [   0.        ,    0.        ,    0.88070135]])"
      ]
     },
     "execution_count": 11,
     "metadata": {},
     "output_type": "execute_result"
    }
   ],
   "source": [
    "D = np.zeros((n, n))\n",
    "for i in range(n):\n",
    "    D[i, i] = 1 / (A[i].sum())\n",
    "D"
   ]
  },
  {
   "cell_type": "code",
   "execution_count": 12,
   "metadata": {
    "collapsed": false
   },
   "outputs": [
    {
     "data": {
      "text/plain": [
       "array([[ 0.        ,  0.21580746,  0.00139817],\n",
       "       [ 0.21580746,  0.        ,  0.33695293],\n",
       "       [ 0.00139817,  0.33695293,  0.88070135]])"
      ]
     },
     "execution_count": 12,
     "metadata": {},
     "output_type": "execute_result"
    }
   ],
   "source": [
    "L = np.sqrt(D).dot(A).dot(np.sqrt(D))\n",
    "L"
   ]
  },
  {
   "cell_type": "markdown",
   "metadata": {},
   "source": [
    "#### Find the k largest eigenvectors of L"
   ]
  },
  {
   "cell_type": "code",
   "execution_count": 13,
   "metadata": {
    "collapsed": true
   },
   "outputs": [],
   "source": [
    "value, vector = la.eig(L)"
   ]
  },
  {
   "cell_type": "code",
   "execution_count": 14,
   "metadata": {
    "collapsed": false
   },
   "outputs": [
    {
     "data": {
      "text/plain": [
       "array([[ 0.07308967,  0.79087251, -0.60760067],\n",
       "       [ 0.33258841,  0.5550276 ,  0.76244954],\n",
       "       [ 0.94023553, -0.25780813, -0.22246825]])"
      ]
     },
     "execution_count": 14,
     "metadata": {},
     "output_type": "execute_result"
    }
   ],
   "source": [
    "idx = np.argsort(value)[::-1]\n",
    "value = value[idx]\n",
    "vector = vector[:, idx]\n",
    "vector"
   ]
  },
  {
   "cell_type": "code",
   "execution_count": 15,
   "metadata": {
    "collapsed": false
   },
   "outputs": [
    {
     "data": {
      "text/plain": [
       "array([[ 0.07308967,  0.79087251],\n",
       "       [ 0.33258841,  0.5550276 ],\n",
       "       [ 0.94023553, -0.25780813]])"
      ]
     },
     "execution_count": 15,
     "metadata": {},
     "output_type": "execute_result"
    }
   ],
   "source": [
    "k = 2\n",
    "X = vector[:, 0:k]\n",
    "X"
   ]
  },
  {
   "cell_type": "markdown",
   "metadata": {},
   "source": [
    "#### Form the matrix Y"
   ]
  },
  {
   "cell_type": "code",
   "execution_count": 16,
   "metadata": {
    "collapsed": false
   },
   "outputs": [
    {
     "data": {
      "text/plain": [
       "array([[ 0.08459823,  0.91540177],\n",
       "       [ 0.37469853,  0.62530147],\n",
       "       [ 1.37778103, -0.37778103]])"
      ]
     },
     "execution_count": 16,
     "metadata": {},
     "output_type": "execute_result"
    }
   ],
   "source": [
    "Y = X / np.sum(X, 1)[:, np.newaxis]\n",
    "Y"
   ]
  },
  {
   "cell_type": "markdown",
   "metadata": {},
   "source": [
    "#### K-means clustering"
   ]
  },
  {
   "cell_type": "code",
   "execution_count": 22,
   "metadata": {
    "collapsed": true
   },
   "outputs": [],
   "source": [
    "def kmeans(y, k, max_iter=10):\n",
    "    idx = np.random.choice(len(y), k, replace=False)\n",
    "    idx_data = y[idx]\n",
    "    for i in range(max_iter):\n",
    "        dist = np.array([inner1d(y-c, y-c) for c in idx_data])\n",
    "        clusters = np.argmin(dist, axis=0)\n",
    "        idx_data = np.array([y[clusters==i].mean(axis=0) for i in range(k)])\n",
    "    return (clusters, idx_data)"
   ]
  },
  {
   "cell_type": "code",
   "execution_count": 27,
   "metadata": {
    "collapsed": false
   },
   "outputs": [],
   "source": [
    "clusters,data=kmeans(Y, 2, max_iter=10)\n"
   ]
  },
  {
   "cell_type": "markdown",
   "metadata": {},
   "source": [
    "#### Assign the original point S to clusters"
   ]
  },
  {
   "cell_type": "code",
   "execution_count": 29,
   "metadata": {
    "collapsed": false
   },
   "outputs": [
    {
     "data": {
      "text/plain": [
       "array([[2, 1, 0],\n",
       "       [3, 4, 0],\n",
       "       [5, 4, 1]])"
      ]
     },
     "execution_count": 29,
     "metadata": {},
     "output_type": "execute_result"
    }
   ],
   "source": [
    "np.concatenate((s, clusters.reshape((3,1))), axis = 1)"
   ]
  },
  {
   "cell_type": "markdown",
   "metadata": {},
   "source": [
    "### Test algorithm on simulated datasets"
   ]
  },
  {
   "cell_type": "code",
   "execution_count": 157,
   "metadata": {
    "collapsed": false
   },
   "outputs": [],
   "source": [
    "#num = 50\n",
    "#s = np.random.multivariate_normal([7,9], [[3, 5],[3, 5]], 25)\n",
    "#s2 = np.random.multivariate_normal([15,19], [[3, 5],[3, 5]], 25)\n",
    "#s = np.array([[2,1], [3,4], [5,4]])\n",
    "#s=np.concatenate((s, s2), axis=0)\n",
    "\n",
    "from sklearn.cluster import KMeans\n",
    "from sklearn.datasets.samples_generator import make_blobs\n",
    "\n",
    "\n",
    "batch_size = 50\n",
    "centers = [[5, 5], [10, 10]]\n",
    "n_clusters = len(centers)\n",
    "X, labels_true = make_blobs(n_samples=50, centers=centers, cluster_std=0.7)\n",
    "\n",
    "s=X\n"
   ]
  },
  {
   "cell_type": "code",
   "execution_count": 158,
   "metadata": {
    "collapsed": false
   },
   "outputs": [],
   "source": [
    "n = np.shape(s)[0]\n",
    "def affinity(s, var):\n",
    "    A = np.zeros((n, n))\n",
    "    for i in range(n):\n",
    "        for j in range(n):\n",
    "            A[i, i] = 0\n",
    "            A[i,j] = np.exp(-(la.norm(s[i] - s[j])**2) / (2*var))\n",
    "    return A\n",
    "\n",
    "A=affinity(s,1)\n",
    "D = np.zeros((n, n))\n",
    "for i in range(n):\n",
    "    D[i, i] = 1 / (A[i].sum())\n",
    "\n",
    "D = np.zeros((n, n))\n",
    "for i in range(n):\n",
    "    D[i, i] = 1 / (A[i].sum())\n",
    "\n",
    "L = np.sqrt(D).dot(A).dot(np.sqrt(D))\n",
    "\n",
    "value, vector = la.eig(L)\n",
    "\n",
    "idx = np.argsort(value)[::-1]\n",
    "value = value[idx]\n",
    "vector = vector[:, idx]\n",
    "\n",
    "k = 2\n",
    "X = vector[:, 0:k]\n",
    "\n",
    "Y = X / np.sum(X, 1)[:, np.newaxis]\n",
    "\n",
    "def kmeans(y, k, max_iter=100):\n",
    "    idx = np.random.choice(len(y), k, replace=False)\n",
    "    idx_data = y[idx]\n",
    "    for i in range(max_iter):\n",
    "        dist = np.array([inner1d(y-c, y-c) for c in idx_data])\n",
    "        clusters = np.argmin(dist, axis=0)\n",
    "        idx_data = np.array([y[clusters==i].mean(axis=0) for i in range(k)])\n",
    "    return (clusters, idx_data)\n",
    "clusters,data=kmeans(Y, 2, max_iter=10)\n",
    "clusters=clusters+1\n",
    "final=np.concatenate((s, clusters.reshape((len(clusters),1))), axis = 1)\n"
   ]
  },
  {
   "cell_type": "code",
   "execution_count": 159,
   "metadata": {
    "collapsed": false
   },
   "outputs": [
    {
     "data": {
      "text/plain": [
       "<matplotlib.collections.PathCollection at 0x7f3a30e90a58>"
      ]
     },
     "execution_count": 159,
     "metadata": {},
     "output_type": "execute_result"
    },
    {
     "name": "stderr",
     "output_type": "stream",
     "text": [
      "/opt/conda/lib/python3.4/site-packages/matplotlib/collections.py:590: FutureWarning: elementwise comparison failed; returning scalar instead, but in the future will perform elementwise comparison\n",
      "  if self._edgecolors == str('face'):\n"
     ]
    },
    {
     "data": {
      "image/png": "[encoded data removed]",
      "text/plain": [
       "<matplotlib.figure.Figure at 0x7f3a30e901d0>"
      ]
     },
     "metadata": {},
     "output_type": "display_data"
    }
   ],
   "source": [
    "import matplotlib.cm as cm\n",
    "fig, ax = plt.subplots()\n",
    "ax.scatter(final[:,0],final[:,1],c=final[:,2])\n"
   ]
  },
  {
   "cell_type": "markdown",
   "metadata": {},
   "source": [
    "### Test algorithm on challenging clustering problems"
   ]
  },
  {
   "cell_type": "code",
   "execution_count": 171,
   "metadata": {
    "collapsed": false
   },
   "outputs": [],
   "source": [
    "### creating challenging datasets\n",
    "\n",
    "from sklearn import cluster, datasets\n",
    "from sklearn.neighbors import kneighbors_graph\n",
    "from sklearn.preprocessing import StandardScaler\n",
    "\n",
    "\n",
    "n_samples = 50\n",
    "noisy_circles = datasets.make_circles(n_samples=n_samples, factor=.5,\n",
    "                                      noise=.05)\n",
    "noisy_moons = datasets.make_moons(n_samples=n_samples, noise=.05)\n",
    "blobs = datasets.make_blobs(n_samples=n_samples, random_state=8)\n",
    "no_structure = np.random.rand(n_samples, 2), None\n",
    "\n",
    "datasets = [noisy_circles, noisy_moons, blobs, no_structure]\n",
    "s,y=datasets[0]\n",
    "\n"
   ]
  },
  {
   "cell_type": "code",
   "execution_count": 172,
   "metadata": {
    "collapsed": false
   },
   "outputs": [
    {
     "data": {
      "text/plain": [
       "<matplotlib.collections.PathCollection at 0x7f3a30233940>"
      ]
     },
     "execution_count": 172,
     "metadata": {},
     "output_type": "execute_result"
    },
    {
     "name": "stderr",
     "output_type": "stream",
     "text": [
      "/opt/conda/lib/python3.4/site-packages/matplotlib/collections.py:590: FutureWarning: elementwise comparison failed; returning scalar instead, but in the future will perform elementwise comparison\n",
      "  if self._edgecolors == str('face'):\n"
     ]
    },
    {
     "data": {
      "image/png": "[encoded data removed]",
      "text/plain": [
       "<matplotlib.figure.Figure at 0x7f3a303a73c8>"
      ]
     },
     "metadata": {},
     "output_type": "display_data"
    }
   ],
   "source": [
    "n = np.shape(s)[0]\n",
    "def affinity(s, var):\n",
    "    A = np.zeros((n, n))\n",
    "    for i in range(n):\n",
    "        for j in range(n):\n",
    "            A[i, i] = 0\n",
    "            A[i,j] = np.exp(-(la.norm(s[i] - s[j])**2) / (2*var))\n",
    "    return A\n",
    "\n",
    "A=affinity(s,1)\n",
    "D = np.zeros((n, n))\n",
    "for i in range(n):\n",
    "    D[i, i] = 1 / (A[i].sum())\n",
    "\n",
    "D = np.zeros((n, n))\n",
    "for i in range(n):\n",
    "    D[i, i] = 1 / (A[i].sum())\n",
    "\n",
    "L = np.sqrt(D).dot(A).dot(np.sqrt(D))\n",
    "\n",
    "value, vector = la.eig(L)\n",
    "\n",
    "idx = np.argsort(value)[::-1]\n",
    "value = value[idx]\n",
    "vector = vector[:, idx]\n",
    "\n",
    "k = 2\n",
    "X = vector[:, 0:k]\n",
    "\n",
    "Y = X / np.sum(X, 1)[:, np.newaxis]\n",
    "\n",
    "def kmeans(y, k, max_iter=100):\n",
    "    idx = np.random.choice(len(y), k, replace=False)\n",
    "    idx_data = y[idx]\n",
    "    for i in range(max_iter):\n",
    "        dist = np.array([inner1d(y-c, y-c) for c in idx_data])\n",
    "        clusters = np.argmin(dist, axis=0)\n",
    "        idx_data = np.array([y[clusters==i].mean(axis=0) for i in range(k)])\n",
    "    return (clusters, idx_data)\n",
    "clusters,data=kmeans(Y, 2, max_iter=10)\n",
    "clusters=clusters+1\n",
    "final=np.concatenate((s, clusters.reshape((len(clusters),1))), axis = 1)\n",
    "\n",
    "import matplotlib.cm as cm\n",
    "fig, ax = plt.subplots()\n",
    "ax.scatter(final[:,0],final[:,1],c=final[:,2])\n"
   ]
  },
  {
   "cell_type": "code",
   "execution_count": 173,
   "metadata": {
    "collapsed": false
   },
   "outputs": [
    {
     "data": {
      "text/plain": [
       "<matplotlib.collections.PathCollection at 0x7f3a3178b7f0>"
      ]
     },
     "execution_count": 173,
     "metadata": {},
     "output_type": "execute_result"
    },
    {
     "name": "stderr",
     "output_type": "stream",
     "text": [
      "/opt/conda/lib/python3.4/site-packages/matplotlib/collections.py:590: FutureWarning: elementwise comparison failed; returning scalar instead, but in the future will perform elementwise comparison\n",
      "  if self._edgecolors == str('face'):\n"
     ]
    },
    {
     "data": {
      "image/png": "[encoded data removed]",
      "text/plain": [
       "<matplotlib.figure.Figure at 0x7f3a3178b400>"
      ]
     },
     "metadata": {},
     "output_type": "display_data"
    }
   ],
   "source": [
    "s,y=datasets[1]\n",
    "n = np.shape(s)[0]\n",
    "def affinity(s, var):\n",
    "    A = np.zeros((n, n))\n",
    "    for i in range(n):\n",
    "        for j in range(n):\n",
    "            A[i, i] = 0\n",
    "            A[i,j] = np.exp(-(la.norm(s[i] - s[j])**2) / (2*var))\n",
    "    return A\n",
    "\n",
    "A=affinity(s,1)\n",
    "D = np.zeros((n, n))\n",
    "for i in range(n):\n",
    "    D[i, i] = 1 / (A[i].sum())\n",
    "\n",
    "D = np.zeros((n, n))\n",
    "for i in range(n):\n",
    "    D[i, i] = 1 / (A[i].sum())\n",
    "\n",
    "L = np.sqrt(D).dot(A).dot(np.sqrt(D))\n",
    "\n",
    "value, vector = la.eig(L)\n",
    "\n",
    "idx = np.argsort(value)[::-1]\n",
    "value = value[idx]\n",
    "vector = vector[:, idx]\n",
    "\n",
    "k = 2\n",
    "X = vector[:, 0:k]\n",
    "\n",
    "Y = X / np.sum(X, 1)[:, np.newaxis]\n",
    "\n",
    "def kmeans(y, k, max_iter=100):\n",
    "    idx = np.random.choice(len(y), k, replace=False)\n",
    "    idx_data = y[idx]\n",
    "    for i in range(max_iter):\n",
    "        dist = np.array([inner1d(y-c, y-c) for c in idx_data])\n",
    "        clusters = np.argmin(dist, axis=0)\n",
    "        idx_data = np.array([y[clusters==i].mean(axis=0) for i in range(k)])\n",
    "    return (clusters, idx_data)\n",
    "clusters,data=kmeans(Y, 2, max_iter=10)\n",
    "clusters=clusters+1\n",
    "final=np.concatenate((s, clusters.reshape((len(clusters),1))), axis = 1)\n",
    "\n",
    "import matplotlib.cm as cm\n",
    "fig, ax = plt.subplots()\n",
    "ax.scatter(final[:,0],final[:,1],c=final[:,2])"
   ]
  },
  {
   "cell_type": "code",
   "execution_count": 169,
   "metadata": {
    "collapsed": false
   },
   "outputs": [
    {
     "data": {
      "text/plain": [
       "<matplotlib.collections.PathCollection at 0x7f3a3028a080>"
      ]
     },
     "execution_count": 169,
     "metadata": {},
     "output_type": "execute_result"
    },
    {
     "name": "stderr",
     "output_type": "stream",
     "text": [
      "/opt/conda/lib/python3.4/site-packages/matplotlib/collections.py:590: FutureWarning: elementwise comparison failed; returning scalar instead, but in the future will perform elementwise comparison\n",
      "  if self._edgecolors == str('face'):\n"
     ]
    },
    {
     "data": {
      "image/png": "[encoded data removed]",
      "text/plain": [
       "<matplotlib.figure.Figure at 0x7f3a30217208>"
      ]
     },
     "metadata": {},
     "output_type": "display_data"
    }
   ],
   "source": [
    "s,y=datasets[2]\n",
    "n = np.shape(s)[0]\n",
    "def affinity(s, var):\n",
    "    A = np.zeros((n, n))\n",
    "    for i in range(n):\n",
    "        for j in range(n):\n",
    "            A[i, i] = 0\n",
    "            A[i,j] = np.exp(-(la.norm(s[i] - s[j])**2) / (2*var))\n",
    "    return A\n",
    "\n",
    "A=affinity(s,1)\n",
    "D = np.zeros((n, n))\n",
    "for i in range(n):\n",
    "    D[i, i] = 1 / (A[i].sum())\n",
    "\n",
    "D = np.zeros((n, n))\n",
    "for i in range(n):\n",
    "    D[i, i] = 1 / (A[i].sum())\n",
    "\n",
    "L = np.sqrt(D).dot(A).dot(np.sqrt(D))\n",
    "\n",
    "value, vector = la.eig(L)\n",
    "\n",
    "idx = np.argsort(value)[::-1]\n",
    "value = value[idx]\n",
    "vector = vector[:, idx]\n",
    "\n",
    "k = 2\n",
    "X = vector[:, 0:k]\n",
    "\n",
    "Y = X / np.sum(X, 1)[:, np.newaxis]\n",
    "\n",
    "def kmeans(y, k, max_iter=100):\n",
    "    idx = np.random.choice(len(y), k, replace=False)\n",
    "    idx_data = y[idx]\n",
    "    for i in range(max_iter):\n",
    "        dist = np.array([inner1d(y-c, y-c) for c in idx_data])\n",
    "        clusters = np.argmin(dist, axis=0)\n",
    "        idx_data = np.array([y[clusters==i].mean(axis=0) for i in range(k)])\n",
    "    return (clusters, idx_data)\n",
    "clusters,data=kmeans(Y, 2, max_iter=10)\n",
    "clusters=clusters+1\n",
    "final=np.concatenate((s, clusters.reshape((len(clusters),1))), axis = 1)\n",
    "\n",
    "import matplotlib.cm as cm\n",
    "fig, ax = plt.subplots()\n",
    "ax.scatter(final[:,0],final[:,1],c=final[:,2])"
   ]
  },
  {
   "cell_type": "code",
   "execution_count": 170,
   "metadata": {
    "collapsed": false
   },
   "outputs": [
    {
     "data": {
      "text/plain": [
       "<matplotlib.collections.PathCollection at 0x7f3a30233b70>"
      ]
     },
     "execution_count": 170,
     "metadata": {},
     "output_type": "execute_result"
    },
    {
     "name": "stderr",
     "output_type": "stream",
     "text": [
      "/opt/conda/lib/python3.4/site-packages/matplotlib/collections.py:590: FutureWarning: elementwise comparison failed; returning scalar instead, but in the future will perform elementwise comparison\n",
      "  if self._edgecolors == str('face'):\n"
     ]
    },
    {
     "data": {
      "image/png": "[encoded data removed]",
      "text/plain": [
       "<matplotlib.figure.Figure at 0x7f3a30233ba8>"
      ]
     },
     "metadata": {},
     "output_type": "display_data"
    }
   ],
   "source": [
    "s,y=datasets[3]\n",
    "n = np.shape(s)[0]\n",
    "def affinity(s, var):\n",
    "    A = np.zeros((n, n))\n",
    "    for i in range(n):\n",
    "        for j in range(n):\n",
    "            A[i, i] = 0\n",
    "            A[i,j] = np.exp(-(la.norm(s[i] - s[j])**2) / (2*var))\n",
    "    return A\n",
    "\n",
    "A=affinity(s,1)\n",
    "D = np.zeros((n, n))\n",
    "for i in range(n):\n",
    "    D[i, i] = 1 / (A[i].sum())\n",
    "\n",
    "D = np.zeros((n, n))\n",
    "for i in range(n):\n",
    "    D[i, i] = 1 / (A[i].sum())\n",
    "\n",
    "L = np.sqrt(D).dot(A).dot(np.sqrt(D))\n",
    "\n",
    "value, vector = la.eig(L)\n",
    "\n",
    "idx = np.argsort(value)[::-1]\n",
    "value = value[idx]\n",
    "vector = vector[:, idx]\n",
    "\n",
    "k = 2\n",
    "X = vector[:, 0:k]\n",
    "\n",
    "Y = X / np.sum(X, 1)[:, np.newaxis]\n",
    "\n",
    "def kmeans(y, k, max_iter=100):\n",
    "    idx = np.random.choice(len(y), k, replace=False)\n",
    "    idx_data = y[idx]\n",
    "    for i in range(max_iter):\n",
    "        dist = np.array([inner1d(y-c, y-c) for c in idx_data])\n",
    "        clusters = np.argmin(dist, axis=0)\n",
    "        idx_data = np.array([y[clusters==i].mean(axis=0) for i in range(k)])\n",
    "    return (clusters, idx_data)\n",
    "clusters,data=kmeans(Y, 2, max_iter=10)\n",
    "clusters=clusters+1\n",
    "final=np.concatenate((s, clusters.reshape((len(clusters),1))), axis = 1)\n",
    "\n",
    "import matplotlib.cm as cm\n",
    "fig, ax = plt.subplots()\n",
    "ax.scatter(final[:,0],final[:,1],c=final[:,2])"
   ]
  }
 ],
 "metadata": {
  "kernelspec": {
   "display_name": "Python 3",
   "language": "python",
   "name": "python3"
  },
  "language_info": {
   "codemirror_mode": {
    "name": "ipython",
    "version": 3
   },
   "file_extension": ".py",
   "mimetype": "text/x-python",
   "name": "python",
   "nbconvert_exporter": "python",
   "pygments_lexer": "ipython3",
   "version": "3.4.4"
  }
 },
 "nbformat": 4,
 "nbformat_minor": 0
}
