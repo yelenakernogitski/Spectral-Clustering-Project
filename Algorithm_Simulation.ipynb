{
 "cells": [
  {
   "cell_type": "markdown",
   "metadata": {},
   "source": [
    "# Spectral Clustering"
   ]
  },
  {
   "cell_type": "markdown",
   "metadata": {},
   "source": [
    "### Project members:\n",
    "Mengshu Shao, Yelena Kernogitski\n",
    "\n",
    "### GitHub Repositories: \n",
    "https://github.com/yelenakernogitski/Spectral-Clustering-Project"
   ]
  },
  {
   "cell_type": "markdown",
   "metadata": {},
   "source": [
    "### Abstract\n",
    "Clustering is one of the building blocks in modern data analysis, and has been widely used in machine learning and pattern recognition. Two commonly used approaches are K-means and learning a mixture model using EM. However, these methods have some drawbacks, such as violation of the harsh simplifying assumption which the density of each cluster is Gaussian. One method that provides a possible solution in finding useful clusters is spectral clustering, which utilizes eigenvectors derived from the distance between points. The method performs dimensionality reduction in order to find clusters. In this report, First we implement a simple spectral clustering algorithm for clustering points in . Second we analyze how it works in “ideal” case in which the points are exactly far apart (i.e., when affinity matrix s strictly block diagonal), and in general case in which affinity’s off-diagonal blocks are non-zero. Then we test the algorithm by applying it to a number of challenging clustering problems. Further, we attempt to optimize the algorithm using within-Python options (such as vectorization) in addition to JIT and Cython wrapping functions. Finally, we compare the original method in Python and the latter, higher performance method by determining the efficiency of each method. \n"
   ]
  },
  {
   "cell_type": "markdown",
   "metadata": {},
   "source": [
    "### Algorithm"
   ]
  },
  {
   "cell_type": "code",
   "execution_count": 22,
   "metadata": {
    "collapsed": false
   },
   "outputs": [],
   "source": [
    "import numpy as np\n",
    "import scipy.linalg as la\n",
    "from numpy.core.umath_tests import inner1d\n",
    "%matplotlib inline\n",
    "import pandas as pd\n",
    "from matplotlib import pyplot as plt\n",
    "from  more_itertools import unique_everseen"
   ]
  },
  {
   "cell_type": "code",
   "execution_count": null,
   "metadata": {
    "collapsed": false
   },
   "outputs": [],
   "source": [
    "s = np.array([[2,1], [3,4], [5,4]])"
   ]
  },
  {
   "cell_type": "markdown",
   "metadata": {},
   "source": [
    "#### Form the affinity matrix"
   ]
  },
  {
   "cell_type": "code",
   "execution_count": null,
   "metadata": {
    "collapsed": false
   },
   "outputs": [],
   "source": [
    "n = np.shape(s)[0]\n",
    "def affinity(s, var):\n",
    "    A = np.zeros((n, n))\n",
    "    for i in range(n):\n",
    "        for j in range(n):\n",
    "            A[i, i] = 0\n",
    "            A[i,j] = np.exp(-(la.norm(s[i] - s[j])**2) / (2*var))\n",
    "    return A\n",
    "\n",
    "A=affinity(s,1)"
   ]
  },
  {
   "cell_type": "markdown",
   "metadata": {},
   "source": [
    "#### Define D and L"
   ]
  },
  {
   "cell_type": "code",
   "execution_count": null,
   "metadata": {
    "collapsed": false
   },
   "outputs": [],
   "source": [
    "D = np.zeros((n, n))\n",
    "for i in range(n):\n",
    "    D[i, i] = 1 / (A[i].sum())\n",
    "D"
   ]
  },
  {
   "cell_type": "code",
   "execution_count": null,
   "metadata": {
    "collapsed": false
   },
   "outputs": [],
   "source": [
    "L = np.sqrt(D).dot(A).dot(np.sqrt(D))\n",
    "L"
   ]
  },
  {
   "cell_type": "markdown",
   "metadata": {},
   "source": [
    "#### Find the k largest eigenvectors of L"
   ]
  },
  {
   "cell_type": "code",
   "execution_count": null,
   "metadata": {
    "collapsed": true
   },
   "outputs": [],
   "source": [
    "value, vector = la.eig(L)"
   ]
  },
  {
   "cell_type": "code",
   "execution_count": null,
   "metadata": {
    "collapsed": false
   },
   "outputs": [],
   "source": [
    "idx = np.argsort(value)[::-1]\n",
    "value = value[idx]\n",
    "vector = vector[:, idx]\n",
    "vector"
   ]
  },
  {
   "cell_type": "code",
   "execution_count": null,
   "metadata": {
    "collapsed": false
   },
   "outputs": [],
   "source": [
    "k = 2\n",
    "X = vector[:, 0:k]\n",
    "X"
   ]
  },
  {
   "cell_type": "markdown",
   "metadata": {},
   "source": [
    "#### Form the matrix Y"
   ]
  },
  {
   "cell_type": "code",
   "execution_count": null,
   "metadata": {
    "collapsed": false
   },
   "outputs": [],
   "source": [
    "Y = X / np.sum(X, 1)[:, np.newaxis]\n",
    "Y"
   ]
  },
  {
   "cell_type": "markdown",
   "metadata": {},
   "source": [
    "#### K-means clustering"
   ]
  },
  {
   "cell_type": "code",
   "execution_count": null,
   "metadata": {
    "collapsed": true
   },
   "outputs": [],
   "source": [
    "def kmeans(y, k, max_iter=10):\n",
    "    idx = np.random.choice(len(y), k, replace=False)\n",
    "    idx_data = y[idx]\n",
    "    for i in range(max_iter):\n",
    "        dist = np.array([inner1d(y-c, y-c) for c in idx_data])\n",
    "        clusters = np.argmin(dist, axis=0)\n",
    "        idx_data = np.array([y[clusters==i].mean(axis=0) for i in range(k)])\n",
    "    return (clusters, idx_data)"
   ]
  },
  {
   "cell_type": "code",
   "execution_count": null,
   "metadata": {
    "collapsed": false
   },
   "outputs": [],
   "source": [
    "clusters,data=kmeans(Y, 2, max_iter=10)\n"
   ]
  },
  {
   "cell_type": "markdown",
   "metadata": {},
   "source": [
    "#### Assign the original point S to clusters"
   ]
  },
  {
   "cell_type": "code",
   "execution_count": null,
   "metadata": {
    "collapsed": false
   },
   "outputs": [],
   "source": [
    "dat=np.concatenate((s, clusters.reshape((3,1))), axis = 1)\n"
   ]
  },
  {
   "cell_type": "code",
   "execution_count": null,
   "metadata": {
    "collapsed": false
   },
   "outputs": [],
   "source": [
    "s=pd.DataFrame(s)\n",
    "s['cluster'] = clusters\n",
    "b=pd.DataFrame(data)\n",
    "cluster=range(len(b))\n",
    "b['cluster']=cluster\n",
    "x=pd.merge(s, b, on='cluster', how='outer')\n",
    "c=x.ix[:,0:s.shape[1]-1] \n",
    "c=np.array(c)\n",
    "d=x.ix[:,s.shape[1]:x.shape[1]]\n",
    "d=np.array(d)\n"
   ]
  },
  {
   "cell_type": "code",
   "execution_count": 2,
   "metadata": {
    "collapsed": false
   },
   "outputs": [],
   "source": [
    "def dist(x,y):   \n",
    "    return np.sum((x-y)**2)\n",
    "\n",
    "#dist(c[0],d[0])\n",
    "#allz=[]\n",
    "#for i in range(0,len(x)):\n",
    "#    allz.append(dist(c[i],d[i]))\n",
    "#sum(allz)"
   ]
  },
  {
   "cell_type": "code",
   "execution_count": 23,
   "metadata": {
    "collapsed": false
   },
   "outputs": [],
   "source": [
    "def affinity(s, var):\n",
    "    n = np.shape(s)[0]\n",
    "    A = np.zeros((n, n))\n",
    "    for i in range(n):\n",
    "        for j in range(n):\n",
    "            A[i, i] = 0\n",
    "            A[i,j] = np.exp(-(la.norm(s[i] - s[j])**2) / (2*var))\n",
    "    return A\n",
    "\n",
    "def kmeans(y, k, max_iter=100):\n",
    "    idx = np.random.choice(len(y), k, replace=False)\n",
    "    idx_data = y[idx]\n",
    "    for i in range(max_iter):\n",
    "        dist = np.array([inner1d(y-c, y-c) for c in idx_data])\n",
    "        clusters = np.argmin(dist, axis=0)\n",
    "        idx_data = np.array([y[clusters==i].mean(axis=0) for i in range(k)])\n",
    "    return (clusters, idx_data)\n",
    "\n",
    "\n",
    "def findbestvar(s,vari,k):                  #to find best variance\n",
    "    n = np.shape(s)[0]\n",
    "    dis=[]\n",
    "    for j in range(len(vari)):\n",
    "        var=vari[j]\n",
    "        A=affinity(s,var)\n",
    "        D = np.zeros((n, n))\n",
    "        for i in range(n):\n",
    "            D[i, i] = 1 / (A[i].sum())\n",
    "\n",
    "        D = np.zeros((n, n))\n",
    "        for i in range(n):\n",
    "            D[i, i] = 1 / (A[i].sum())\n",
    "\n",
    "        L = np.sqrt(D).dot(A).dot(np.sqrt(D))\n",
    "\n",
    "        value, vector = la.eig(L)\n",
    "\n",
    "        idx = np.argsort(value)[::-1]\n",
    "        value = value[idx]\n",
    "        vector = vector[:, idx]\n",
    "\n",
    "        X = vector[:, 0:k]\n",
    "        Y = X / np.sum(X, 1)[:, np.newaxis]\n",
    "\n",
    "        clusters,data=kmeans(Y, k, max_iter=100)\n",
    "\n",
    "        snew=pd.DataFrame(s)\n",
    "        snew['cluster'] = clusters\n",
    "        b=pd.DataFrame(data)\n",
    "        cluster=list(unique_everseen(clusters))\n",
    "        b['cluster']=cluster\n",
    "        x=pd.merge(snew, b, on='cluster', how='outer')\n",
    "        c=x.ix[:,0:snew.shape[1]-1] \n",
    "        c=np.array(c)\n",
    "        d=x.ix[:,snew.shape[1]:x.shape[1]]\n",
    "        d=np.array(d)\n",
    "        distance=dist(c,d)\n",
    "\n",
    "        dis.append(distance)\n",
    "    \n",
    "    bestvar=np.argmin(dis)\n",
    "    return(vari[bestvar])\n"
   ]
  },
  {
   "cell_type": "code",
   "execution_count": 24,
   "metadata": {
    "collapsed": true
   },
   "outputs": [],
   "source": [
    "def finalclustering(s,k,var):\n",
    "    n = np.shape(s)[0]\n",
    "    A=affinity(s,var)\n",
    "    D = np.zeros((n, n))\n",
    "    for i in range(n):\n",
    "        D[i, i] = 1 / (A[i].sum())\n",
    "    D = np.zeros((n, n))\n",
    "    for i in range(n):\n",
    "        D[i, i] = 1 / (A[i].sum())\n",
    "\n",
    "    L = np.sqrt(D).dot(A).dot(np.sqrt(D))\n",
    "\n",
    "    value, vector = la.eig(L)\n",
    "\n",
    "    idx = np.argsort(value)[::-1]\n",
    "    value = value[idx]\n",
    "    vector = vector[:, idx]\n",
    "\n",
    "    X = vector[:, 0:k]\n",
    "    Y = X / np.sum(X, 1)[:, np.newaxis]\n",
    "\n",
    "    clusters,data=kmeans(Y, k, max_iter=10)\n",
    "    final=np.concatenate((s, clusters.reshape((len(clusters),1))), axis = 1)\n",
    "    return(final,data,clusters)"
   ]
  },
  {
   "cell_type": "code",
   "execution_count": 25,
   "metadata": {
    "collapsed": false
   },
   "outputs": [],
   "source": [
    "s = np.array([[2,1], [3,4], [5,4]]) \n",
    "\n",
    "vari= np.linspace(.01, 4, 1000)\n",
    "k = 2\n",
    "bestvariance=findbestvar(s,vari,k)"
   ]
  },
  {
   "cell_type": "code",
   "execution_count": 26,
   "metadata": {
    "collapsed": false
   },
   "outputs": [
    {
     "data": {
      "text/plain": [
       "0.83276276276276284"
      ]
     },
     "execution_count": 26,
     "metadata": {},
     "output_type": "execute_result"
    }
   ],
   "source": [
    "bestvariance"
   ]
  },
  {
   "cell_type": "code",
   "execution_count": 7,
   "metadata": {
    "collapsed": false
   },
   "outputs": [
    {
     "name": "stdout",
     "output_type": "stream",
     "text": [
      "[[2 1 1]\n",
      " [3 4 1]\n",
      " [5 4 0]]\n",
      "[[ 1.27281504 -0.27281504]\n",
      " [ 0.18935506  0.81064494]]\n",
      "[1 1 0]\n"
     ]
    }
   ],
   "source": [
    "finalclustering(s,k,var=bestvariance)\n",
    "\n",
    "x,y,z=finalclustering(s,k,var=bestvariance)\n",
    "print(x)\n",
    "print(y)\n",
    "print(z)"
   ]
  },
  {
   "cell_type": "markdown",
   "metadata": {},
   "source": [
    "### Test algorithm on simulated datasets"
   ]
  },
  {
   "cell_type": "code",
   "execution_count": 8,
   "metadata": {
    "collapsed": false
   },
   "outputs": [],
   "source": [
    "#num = 50\n",
    "#s = np.random.multivariate_normal([7,9], [[3, 5],[3, 5]], 25)\n",
    "#s2 = np.random.multivariate_normal([15,19], [[3, 5],[3, 5]], 25)\n",
    "#s = np.array([[2,1], [3,4], [5,4]])\n",
    "#s=np.concatenate((s, s2), axis=0)\n",
    "\n",
    "from sklearn.cluster import KMeans\n",
    "from sklearn.datasets.samples_generator import make_blobs\n",
    "\n",
    "\n",
    "batch_size = 50\n",
    "centers = [[5, 5], [10, 10]]\n",
    "n_clusters = len(centers)\n",
    "X, labels_true = make_blobs(n_samples=50, centers=centers, cluster_std=0.7)\n",
    "\n",
    "s=X\n"
   ]
  },
  {
   "cell_type": "code",
   "execution_count": 9,
   "metadata": {
    "collapsed": false
   },
   "outputs": [],
   "source": [
    "vari= np.linspace(0.01, 10, 1000)\n",
    "k = 2\n",
    "bestvariance=findbestvar(s,vari,k)"
   ]
  },
  {
   "cell_type": "code",
   "execution_count": 10,
   "metadata": {
    "collapsed": false
   },
   "outputs": [],
   "source": [
    "final,centers,clusters=finalclustering(s,k,var=bestvariance)"
   ]
  },
  {
   "cell_type": "code",
   "execution_count": 11,
   "metadata": {
    "collapsed": false
   },
   "outputs": [
    {
     "data": {
      "text/plain": [
       "<matplotlib.collections.PathCollection at 0x7f66e11654a8>"
      ]
     },
     "execution_count": 11,
     "metadata": {},
     "output_type": "execute_result"
    },
    {
     "name": "stderr",
     "output_type": "stream",
     "text": [
      "/opt/conda/lib/python3.4/site-packages/matplotlib/collections.py:590: FutureWarning: elementwise comparison failed; returning scalar instead, but in the future will perform elementwise comparison\n",
      "  if self._edgecolors == str('face'):\n"
     ]
    },
    {
     "data": {
      "image/png": "[encoded data removed]",
      "text/plain": [
       "<matplotlib.figure.Figure at 0x7f66e1165b70>"
      ]
     },
     "metadata": {},
     "output_type": "display_data"
    }
   ],
   "source": [
    "import matplotlib.cm as cm\n",
    "fig, ax = plt.subplots()\n",
    "ax.scatter(final[:,0],final[:,1],c=final[:,2])"
   ]
  },
  {
   "cell_type": "markdown",
   "metadata": {},
   "source": [
    "### Test algorithm on challenging clustering problems"
   ]
  },
  {
   "cell_type": "code",
   "execution_count": 13,
   "metadata": {
    "collapsed": false
   },
   "outputs": [],
   "source": [
    "### creating challenging datasets\n",
    "\n",
    "from sklearn import cluster, datasets\n",
    "from sklearn.neighbors import kneighbors_graph\n",
    "from sklearn.preprocessing import StandardScaler\n",
    "\n",
    "\n",
    "n_samples = 50\n",
    "noisy_circles = datasets.make_circles(n_samples=n_samples, factor=.5,\n",
    "                                      noise=.05)\n",
    "noisy_moons = datasets.make_moons(n_samples=n_samples, noise=.05)\n",
    "blobs = datasets.make_blobs(n_samples=n_samples, random_state=8)\n",
    "no_structure = np.random.rand(n_samples, 2), None\n",
    "\n",
    "datasets = [noisy_circles, noisy_moons, blobs, no_structure]\n",
    "s,y=datasets[0]\n",
    "\n"
   ]
  },
  {
   "cell_type": "code",
   "execution_count": 14,
   "metadata": {
    "collapsed": false
   },
   "outputs": [
    {
     "data": {
      "text/plain": [
       "<matplotlib.collections.PathCollection at 0x7f66e0fd0d68>"
      ]
     },
     "execution_count": 14,
     "metadata": {},
     "output_type": "execute_result"
    },
    {
     "name": "stderr",
     "output_type": "stream",
     "text": [
      "/opt/conda/lib/python3.4/site-packages/matplotlib/collections.py:590: FutureWarning: elementwise comparison failed; returning scalar instead, but in the future will perform elementwise comparison\n",
      "  if self._edgecolors == str('face'):\n"
     ]
    },
    {
     "data": {
      "image/png": "[encoded data removed]",
      "text/plain": [
       "<matplotlib.figure.Figure at 0x7f66e0fd0048>"
      ]
     },
     "metadata": {},
     "output_type": "display_data"
    }
   ],
   "source": [
    "vari= np.linspace(0.01, 10, 1000)\n",
    "k = 2\n",
    "bestvariance=findbestvar(s,vari,k)\n",
    "final,centers,clusters=finalclustering(s,k,var=bestvariance)\n",
    "fig, ax = plt.subplots()\n",
    "ax.scatter(final[:,0],final[:,1],c=final[:,2])"
   ]
  },
  {
   "cell_type": "code",
   "execution_count": 15,
   "metadata": {
    "collapsed": false
   },
   "outputs": [
    {
     "data": {
      "text/plain": [
       "<matplotlib.collections.PathCollection at 0x7f66e0f482b0>"
      ]
     },
     "execution_count": 15,
     "metadata": {},
     "output_type": "execute_result"
    },
    {
     "name": "stderr",
     "output_type": "stream",
     "text": [
      "/opt/conda/lib/python3.4/site-packages/matplotlib/collections.py:590: FutureWarning: elementwise comparison failed; returning scalar instead, but in the future will perform elementwise comparison\n",
      "  if self._edgecolors == str('face'):\n"
     ]
    },
    {
     "data": {
      "image/png": "[encoded data removed]",
      "text/plain": [
       "<matplotlib.figure.Figure at 0x7f66e0fbe550>"
      ]
     },
     "metadata": {},
     "output_type": "display_data"
    }
   ],
   "source": [
    "s,y=datasets[1]\n",
    "vari= np.linspace(0.01, 10, 1000)\n",
    "k = 2\n",
    "bestvariance=findbestvar(s,vari,k)\n",
    "final,centers,clusters=finalclustering(s,k,var=bestvariance)\n",
    "fig, ax = plt.subplots()\n",
    "ax.scatter(final[:,0],final[:,1],c=final[:,2])\n"
   ]
  },
  {
   "cell_type": "code",
   "execution_count": 32,
   "metadata": {
    "collapsed": false
   },
   "outputs": [
    {
     "data": {
      "text/plain": [
       "<matplotlib.collections.PathCollection at 0x7f66e0e8ab00>"
      ]
     },
     "execution_count": 32,
     "metadata": {},
     "output_type": "execute_result"
    },
    {
     "name": "stderr",
     "output_type": "stream",
     "text": [
      "/opt/conda/lib/python3.4/site-packages/matplotlib/collections.py:590: FutureWarning: elementwise comparison failed; returning scalar instead, but in the future will perform elementwise comparison\n",
      "  if self._edgecolors == str('face'):\n"
     ]
    },
    {
     "data": {
      "image/png": "[encoded data removed]",
      "text/plain": [
       "<matplotlib.figure.Figure at 0x7f66e0dfdf28>"
      ]
     },
     "metadata": {},
     "output_type": "display_data"
    }
   ],
   "source": [
    "s,y=datasets[2]\n",
    "vari= np.linspace(.3, 20, 1000)\n",
    "k = 2\n",
    "bestvariance=findbestvar(s,vari,k)\n",
    "final,centers,clusters=finalclustering(s,k,var=bestvariance)\n",
    "fig, ax = plt.subplots()\n",
    "ax.scatter(final[:,0],final[:,1],c=final[:,2])"
   ]
  },
  {
   "cell_type": "code",
   "execution_count": 28,
   "metadata": {
    "collapsed": false
   },
   "outputs": [
    {
     "data": {
      "text/plain": [
       "<matplotlib.collections.PathCollection at 0x7f66e0e8f898>"
      ]
     },
     "execution_count": 28,
     "metadata": {},
     "output_type": "execute_result"
    },
    {
     "name": "stderr",
     "output_type": "stream",
     "text": [
      "/opt/conda/lib/python3.4/site-packages/matplotlib/collections.py:590: FutureWarning: elementwise comparison failed; returning scalar instead, but in the future will perform elementwise comparison\n",
      "  if self._edgecolors == str('face'):\n"
     ]
    },
    {
     "data": {
      "image/png": "[encoded data removed]",
      "text/plain": [
       "<matplotlib.figure.Figure at 0x7f66e0eb4438>"
      ]
     },
     "metadata": {},
     "output_type": "display_data"
    }
   ],
   "source": [
    "s,y=datasets[3]\n",
    "vari= np.linspace(0.01, 10, 100)\n",
    "k = 2\n",
    "bestvariance=findbestvar(s,vari,k)\n",
    "final,centers,clusters=finalclustering(s,k,var=bestvariance)\n",
    "fig, ax = plt.subplots()\n",
    "ax.scatter(final[:,0],final[:,1],c=final[:,2])"
   ]
  }
 ],
 "metadata": {
  "kernelspec": {
   "display_name": "Python 3",
   "language": "python",
   "name": "python3"
  },
  "language_info": {
   "codemirror_mode": {
    "name": "ipython",
    "version": 3
   },
   "file_extension": ".py",
   "mimetype": "text/x-python",
   "name": "python",
   "nbconvert_exporter": "python",
   "pygments_lexer": "ipython3",
   "version": "3.4.4"
  }
 },
 "nbformat": 4,
 "nbformat_minor": 0
}
