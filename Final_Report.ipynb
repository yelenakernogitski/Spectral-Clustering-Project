{
 "cells": [
  {
   "cell_type": "markdown",
   "metadata": {},
   "source": [
    "# Spectral Clustering"
   ]
  },
  {
   "cell_type": "markdown",
   "metadata": {},
   "source": [
    "### Project members:\n",
    "Mengshu Shao, Yelena Kernogitski\n",
    "\n",
    "### GitHub Repositories: \n",
    "https://github.com/yelenakernogitski/Spectral-Clustering-Project"
   ]
  },
  {
   "cell_type": "markdown",
   "metadata": {},
   "source": [
    "## Abstract\n",
    "Clustering is one of the building blocks in modern data analysis, and has been widely used in machine learning and pattern recognition. Two commonly used approaches are K-means and learning a mixture model using EM. However, these methods have some drawbacks, such as violation of the harsh simplifying assumption which the density of each cluster is Gaussian. One method that provides a possible solution in finding useful clusters is spectral clustering, which utilizes eigenvectors derived from the distance between points. The method performs dimensionality reduction in order to find clusters. In this report, First we implement a simple spectral clustering algorithm for clustering points in . Second we analyze how it works in “ideal” case in which the points are exactly far apart (i.e., when affinity matrix s strictly block diagonal), and in general case in which affinity’s off-diagonal blocks are non-zero. Then we test the algorithm by applying it to a number of challenging clustering problems. Further, we attempt to optimize the algorithm using within-Python options (such as vectorization) in addition to JIT and Cython wrapping functions. Finally, we compare the original method in Python and the latter, higher performance method by determining the efficiency of each method. \n"
   ]
  },
  {
   "cell_type": "markdown",
   "metadata": {},
   "source": [
    "## 1. Introduction"
   ]
  },
  {
   "cell_type": "markdown",
   "metadata": {},
   "source": [
    "A significant aim of machine learning and pattern recognition is finding appropriate clusters that are able to accurately classify data points. Two standard approaches used in clustering are K-means and Expectation-Maximazation which allow for learning a mixture model. The latter has severe drawbacks where we must estimate the density of each cluster to be Gaussian due to parametric assumptions, and the log likelihood may result in getting caught in a local minima, and many various initial values may need to be used [1]. K-means clustering by itself leads to other problems, such as not being able to accomodate non-spherical data, and other complex datasets. A method that provides a possible solution in finding useful clusters in spectral clustering, which utilizes eigenvectors derived from the distance between points. An additional part of our algorithm uses the eigenvectors found in K-means clustering, as opposed to using the original dataset found. It has been found in empirical studies that the latter method is more accurate in classifying clusters [1]. In this report, we first implement a simple spectral clustering algorithm for clustering point in $\\mathbb{R}^n$. Second, we analyze how it works in an \"ideal\" case in which the points are exactly far apart. Then we apply the algorithm to a number of challenging clustering problems. We will attempt to optimize our algorithm by using various methods--such as vectorization, JIT, and cython wrapping funcions. "
   ]
  },
  {
   "cell_type": "markdown",
   "metadata": {},
   "source": [
    "## 2. Spectral Clustering Algorithm"
   ]
  },
  {
   "cell_type": "markdown",
   "metadata": {},
   "source": [
    "Our algorithm has been previously described in (Ng et al, 2002). Provided a set of points $S= {s_1,...,s_n}$ in $\\mathbb{R}^l$ that we want to clsuter into $k$ subsets:\n",
    "\n",
    "1. Define the affinity matrix $A \\in \\mathbb{R}^{nxn}$ by $A_{ij}=exp(-||s_i-s_j||^2 / 2\\sigma^2)$ if $i\\neq{j}$, and $A_{ii}=0$.\n",
    "    \n",
    "2. Create a diagonal matrix whose ($i$,$i$) element is the sum of $A's$ i-th row, and construct L, where $L= D^{-1/2}AD^{-1/2}$.\n",
    "    \n",
    "3. Find ${x_1,...,x_n}$, the $k$ largest eigenvectors of $L$, and create the matrix $X$, by placing the k eigenvectors in columns.\n",
    "    \n",
    "4. Use $X$ to form the matrix $Y$, by normalizing each X's rows to have unit length (i.e. $Y_{ij}=X_{ij}/(\\sum_{j}{}X_{ij}^2)^{1/2}$). \n",
    "    \n",
    "5. Treating each row of $Y$ as a point in $\\mathbb{R}^k$, cluster into $k$ clusters using K-means\n",
    "    \n",
    "6. Assign the original point $s_i$ to cluster $j$ if row $i$ of the matrix $Y$ was assigned to cluster $j$. "
   ]
  },
  {
   "cell_type": "markdown",
   "metadata": {},
   "source": [
    "Our scaling parameter $\\sigma^2$ was found by minimizing the distortion of the Y matrix and the clustering centers that correspond to each assigned cluster. The distortion was found by summing over the Euclidean distances between each data point and the center of its assigned cluster. We found $\\sigma^2$ by using an iterative procedure to find which value of $\\sigma^2$ minimized the distortion. Generally, $\\sigma^2$ can be determined using human input, but this process automizes the procedure. "
   ]
  },
  {
   "cell_type": "markdown",
   "metadata": {},
   "source": [
    "### 2.1 Algorithm"
   ]
  },
  {
   "cell_type": "code",
   "execution_count": 35,
   "metadata": {
    "collapsed": false
   },
   "outputs": [],
   "source": [
    "import numpy as np\n",
    "import scipy.linalg as la\n",
    "from numpy.core.umath_tests import inner1d\n",
    "%matplotlib inline\n",
    "import warnings\n",
    "warnings.filterwarnings(\"ignore\")\n",
    "import pandas as pd\n",
    "from matplotlib import pyplot as plt\n",
    "import matplotlib.cm as cm\n",
    "from more_itertools import unique_everseen\n",
    "import numba\n",
    "from numba import *\n",
    "import time"
   ]
  },
  {
   "cell_type": "markdown",
   "metadata": {},
   "source": [
    "For detailed algorithm and illustration, please refer to the \"Illustration_of_Algorithm.ipynb\". Here we'll mainly list the functions we used in our application. For Cython and Mltiprocessing part, we created some new sub-functions to make the program easier without change to the results."
   ]
  },
  {
   "cell_type": "markdown",
   "metadata": {},
   "source": [
    "#### Form the affinity matrix"
   ]
  },
  {
   "cell_type": "markdown",
   "metadata": {},
   "source": [
    "$\\textbf{affinity}(s, var)$\n",
    "* Form the affinity matrix\n",
    "* Parameters\n",
    "    * s: array-like, shape (n_samples, n_features)\n",
    "        * Training vectors, where n_samples is the number of samples and n_features is the number of features.\n",
    "    * var: float, $\\sigma^2$\n",
    "        * scaling parameter controlling how rapidly the affinity $A_{ij}$ falls off with the distance between $s_i$ and $s_j$.\n",
    "* Returns\n",
    "    * A: array-like, shape (n_samples, n_samples)\n",
    "        * Affinity matrix.\n",
    "      "
   ]
  },
  {
   "cell_type": "code",
   "execution_count": 2,
   "metadata": {
    "collapsed": false
   },
   "outputs": [],
   "source": [
    "def affinity(s, var):\n",
    "    n = np.shape(s)[0]\n",
    "    A = np.zeros((n, n))\n",
    "    for i in range(n):\n",
    "        for j in range(n):\n",
    "            A[i, i] = 0\n",
    "            A[i,j] = np.exp(-(la.norm(s[i] - s[j])**2) / (2*var))\n",
    "    return A\n"
   ]
  },
  {
   "cell_type": "markdown",
   "metadata": {},
   "source": [
    "#### Create the D"
   ]
  },
  {
   "cell_type": "markdown",
   "metadata": {},
   "source": [
    "$\\textbf{findD}(s)$\n",
    "* Form the affinity matrix\n",
    "* Parameters\n",
    "    * s: array-like, shape (n_samples, n_features)\n",
    "        * Training vectors, where n_samples is the number of samples and n_features is the number of features.\n",
    "* Returns\n",
    "    * D: array-like, shape (n_samples, n_samples)\n",
    "        * A diagonal matrix whose ($i$,$i$) element is the sum of $A's$ i-th row."
   ]
  },
  {
   "cell_type": "code",
   "execution_count": 30,
   "metadata": {
    "collapsed": true
   },
   "outputs": [],
   "source": [
    "def findD(s):\n",
    "    n = np.shape(s)[0]\n",
    "    A = affinity(s, var=bestvariance)\n",
    "    D = np.zeros((n, n))\n",
    "    for i in range(n):\n",
    "        D[i, i] = 1/(A[i].sum())\n",
    "    return D"
   ]
  },
  {
   "cell_type": "markdown",
   "metadata": {},
   "source": [
    "#### K-means clustering"
   ]
  },
  {
   "cell_type": "markdown",
   "metadata": {},
   "source": [
    "$\\textbf{kmeans}(y, k, max_iter=10)$\n",
    "* K-Means Clustering\n",
    "* Parameters\n",
    "    * y: array-like, shape (n_samples, k)\n",
    "        * Training vectors, where n_samples is the number of samples and k is the number of clusters.\n",
    "    * k: int\n",
    "        * The number of clusters to form as well as the number of centroids to generate.\n",
    "    * max_iter: int\n",
    "        * The number of iterations taken to get the final clustering.\n",
    "* Returns\n",
    "    * clusters: array-like, shape (n_samples, 1)\n",
    "        * The clusters of which the data point belongs to.\n",
    "    * idx_data: array-like, shape (k, n_features)\n",
    "        * The centroids generated from K-Means clustering."
   ]
  },
  {
   "cell_type": "code",
   "execution_count": 31,
   "metadata": {
    "collapsed": true
   },
   "outputs": [],
   "source": [
    "def kmeans(y, k, max_iter=10):\n",
    "    idx = np.random.choice(len(y), k, replace=False)\n",
    "    idx_data = y[idx]\n",
    "    for i in range(max_iter):\n",
    "        dist = np.array([inner1d(y-c, y-c) for c in idx_data])\n",
    "        clusters = np.argmin(dist, axis=0)\n",
    "        idx_data = np.array([y[clusters==i].mean(axis=0) for i in range(k)])\n",
    "    return (clusters, idx_data)"
   ]
  },
  {
   "cell_type": "markdown",
   "metadata": {},
   "source": [
    "#### Find the best $\\sigma^2$"
   ]
  },
  {
   "cell_type": "markdown",
   "metadata": {},
   "source": [
    "#### Distortion\n",
    "\n",
    "* Suppose for a point $x$, you replace its coordinates by the cluster center $c_{x}$ it belongs to (lossy compression).\n",
    "* Measure it with squared Euclidean distance: $x(d)$ is the $d-th$ feature dimension, $y(x)$ is the cluster ID that $x$ is in.\n",
    "    * $\\sum_{d=1...D}{}[x(d)-c_{y(x)}(d)]^2$\n",
    "* This is the distortion of a single point x. For the whole dataset, the distortion is:\n",
    "    * $\\sum_{x}{}\\sum_{d=1...D}{}[x(d)-c_{y(x)}(d)]^2$"
   ]
  },
  {
   "cell_type": "markdown",
   "metadata": {},
   "source": [
    "$\\textbf{dist}(x,y)$\n",
    "* Calculate the distance between two matrices\n",
    "* Parameters\n",
    "    * x: array-like \n",
    "        * One of the vectors.\n",
    "    * y: array-like\n",
    "        * One of the vectors.\n",
    "* Returns\n",
    "    * res: float\n",
    "        * Squared Euclidean distance."
   ]
  },
  {
   "cell_type": "code",
   "execution_count": 32,
   "metadata": {
    "collapsed": true
   },
   "outputs": [],
   "source": [
    "def dist(x,y):  \n",
    "    res = np.sum((x-y)**2)\n",
    "    return res"
   ]
  },
  {
   "cell_type": "markdown",
   "metadata": {},
   "source": [
    "$\\textbf{findbestvar}(s,vari,k)$\n",
    "* Find the best variance by minimizing the distortion\n",
    "* Parameters\n",
    "    * s: array-like, shape (n_samples, n_features)\n",
    "        * Training vectors, where n_samples is the number of samples and n_features is the number of features.\n",
    "    * vari: array-like, shape (n_vars)\n",
    "        * An array of possible variances.\n",
    "    * k: int\n",
    "        * The number of clusters\n",
    "* Returns\n",
    "    * vari[bestvar]: float\n",
    "        * The right $\\sigma^2$ with mizimum distortion."
   ]
  },
  {
   "cell_type": "code",
   "execution_count": 33,
   "metadata": {
    "collapsed": false
   },
   "outputs": [],
   "source": [
    "def findbestvar(s,vari,k):                  \n",
    "    n = np.shape(s)[0]\n",
    "    dis=[]\n",
    "    for j in range(len(vari)):\n",
    "        var=vari[j]\n",
    "        A=affinity(s,var)\n",
    "        D = np.zeros((n, n))\n",
    "        for i in range(n):\n",
    "            D[i, i] = 1 / (A[i].sum())\n",
    "\n",
    "        L = np.sqrt(D).dot(A).dot(np.sqrt(D))\n",
    "\n",
    "        value, vector = la.eig(L)\n",
    "\n",
    "        idx = np.argsort(value)[::-1]\n",
    "        value = value[idx]\n",
    "        vector = vector[:, idx]\n",
    "\n",
    "        X = vector[:, 0:k]\n",
    "        Y = X / np.sum(X, 1)[:, np.newaxis]\n",
    "\n",
    "        clusters,data=kmeans(Y, k, max_iter=100)\n",
    "\n",
    "        snew=pd.DataFrame(s)\n",
    "        snew['cluster'] = clusters\n",
    "        b=pd.DataFrame(data)\n",
    "        cluster=list(unique_everseen(clusters))\n",
    "        b['cluster']=cluster\n",
    "        x=pd.merge(snew, b, on='cluster', how='outer')\n",
    "        c=x.ix[:,0:snew.shape[1]-1] \n",
    "        c=np.array(c)\n",
    "        d=x.ix[:,snew.shape[1]:x.shape[1]]\n",
    "        d=np.array(d)\n",
    "        distance=dist(c,d)\n",
    "\n",
    "        dis.append(distance)\n",
    "    \n",
    "    bestvar=np.argmin(dis)\n",
    "    return(vari[bestvar])\n"
   ]
  },
  {
   "cell_type": "markdown",
   "metadata": {},
   "source": [
    "#### Final clustering on the original data set"
   ]
  },
  {
   "cell_type": "markdown",
   "metadata": {},
   "source": [
    "$\\textbf{finalclustering}(s,var,k)$\n",
    "* Final clustering on the datapoints\n",
    "* Parameters\n",
    "    * s: array-like, shape (n_samples, n_features)\n",
    "        * Training vectors, where n_samples is the number of samples and n_features is the number of features.\n",
    "    * var: float\n",
    "        * The best variances.\n",
    "    * k: int\n",
    "        * The number of clusters.\n",
    "* Returns\n",
    "    * final: array-like, shape (n_samples, n_features+1)\n",
    "        * The original set of datapoints with the clusters. \n",
    "    * data: array-like, shape (k, n_features)\n",
    "        * The centroids of K-means clustering.\n",
    "    * clusters: array-like, shape (n_samples)\n",
    "        * The clusters."
   ]
  },
  {
   "cell_type": "code",
   "execution_count": 34,
   "metadata": {
    "collapsed": true
   },
   "outputs": [],
   "source": [
    "def finalclustering(s,k,var):\n",
    "    n = np.shape(s)[0]\n",
    "    A=affinity(s,var)\n",
    "    D = np.zeros((n, n))\n",
    "    for i in range(n):\n",
    "        D[i, i] = 1 / (A[i].sum())\n",
    "\n",
    "    L = np.sqrt(D).dot(A).dot(np.sqrt(D))\n",
    "\n",
    "    value, vector = la.eig(L)\n",
    "\n",
    "    idx = np.argsort(value)[::-1]\n",
    "    value = value[idx]\n",
    "    vector = vector[:, idx]\n",
    "\n",
    "    X = vector[:, 0:k]\n",
    "    Y = X / np.sum(X, 1)[:, np.newaxis]\n",
    "\n",
    "    clusters,data=kmeans(Y, k, max_iter=10)\n",
    "    final=np.concatenate((s, clusters.reshape((len(clusters),1))), axis = 1)\n",
    "    return(final,data,clusters)"
   ]
  },
  {
   "cell_type": "markdown",
   "metadata": {},
   "source": [
    "### 2.2 Test algorithm on \"ideal\" datasets"
   ]
  },
  {
   "cell_type": "markdown",
   "metadata": {},
   "source": [
    "In the previous part, we list all the functions to get to the final clustering of the data points. To better understand the application of the algorithm, we can consider its performance on the \"ideal\" dataset in which all points in different clusters are far apart from each other. Here we generated isotropic Gaussian blobs of sample size 100 with two centers [5,5] and [10,10] for clustering. The data points are obviously belong to two different clusters. \n",
    "\n",
    "Then to find the best variance for this case, use $finalclustering(s,k,var=bestvariance)$ to cluster the data points into 2 clusters. We set the possible variances to be evenly spaced numbers from 0.01 to 10 and chose the best variance by minimizing the distortion.\n",
    "\n",
    "The clustered points are shown in the figure below. According to the figure, under the \"ideal\" case where the data points in different clusters are far apart, our algorithm behaves well on clustering. \n",
    "\n",
    "We also recorded the time in order to compare it with JIT and Cython."
   ]
  },
  {
   "cell_type": "code",
   "execution_count": 7,
   "metadata": {
    "collapsed": false
   },
   "outputs": [],
   "source": [
    "from sklearn.cluster import KMeans\n",
    "from sklearn.datasets.samples_generator import make_blobs\n",
    "\n",
    "batch_size = 100\n",
    "centers = [[5, 5], [10, 10]]\n",
    "n_clusters = len(centers)\n",
    "X, labels_true = make_blobs(n_samples=100, centers=centers, cluster_std=0.7)\n",
    "\n",
    "s=X"
   ]
  },
  {
   "cell_type": "code",
   "execution_count": 36,
   "metadata": {
    "collapsed": false
   },
   "outputs": [
    {
     "data": {
      "image/png": "[encoded data removed]",
      "text/plain": [
       "<matplotlib.figure.Figure at 0x10eafa400>"
      ]
     },
     "metadata": {},
     "output_type": "display_data"
    }
   ],
   "source": [
    "fig, ax = plt.subplots()\n",
    "ax.scatter(s[:,0],s[:,1])\n",
    "pass"
   ]
  },
  {
   "cell_type": "code",
   "execution_count": 8,
   "metadata": {
    "collapsed": false
   },
   "outputs": [],
   "source": [
    "vari= np.linspace(0.01, 10, 100)\n",
    "k = 2\n",
    "bestvariance=findbestvar(s,vari,k)"
   ]
  },
  {
   "cell_type": "code",
   "execution_count": 37,
   "metadata": {
    "collapsed": false
   },
   "outputs": [
    {
     "data": {
      "text/plain": [
       "0.31272727272727274"
      ]
     },
     "execution_count": 37,
     "metadata": {},
     "output_type": "execute_result"
    }
   ],
   "source": [
    "bestvariance"
   ]
  },
  {
   "cell_type": "code",
   "execution_count": 9,
   "metadata": {
    "collapsed": false
   },
   "outputs": [],
   "source": [
    "final,centers,clusters=finalclustering(s,k,var=bestvariance)"
   ]
  },
  {
   "cell_type": "code",
   "execution_count": 25,
   "metadata": {
    "collapsed": false
   },
   "outputs": [
    {
     "name": "stdout",
     "output_type": "stream",
     "text": [
      "Clustering plot using pure python 0.210527 s\n"
     ]
    },
    {
     "data": {
      "image/png": "[encoded data removed]",
      "text/plain": [
       "<matplotlib.figure.Figure at 0x10d5fc908>"
      ]
     },
     "metadata": {},
     "output_type": "display_data"
    }
   ],
   "source": [
    "start = time.clock()\n",
    "final,centers,clusters=finalclustering(s,k,var=bestvariance)\n",
    "time_1 = time.clock() - start\n",
    "\n",
    "fig, ax = plt.subplots()\n",
    "ax.scatter(final[:,0],final[:,1],c=final[:,2],cmap=cm.rainbow)\n",
    "\n",
    "print(\"Clustering plot using pure python %f s\" % time_1)\n",
    "\n",
    "pass"
   ]
  },
  {
   "cell_type": "code",
   "execution_count": 11,
   "metadata": {
    "collapsed": false
   },
   "outputs": [
    {
     "name": "stdout",
     "output_type": "stream",
     "text": [
      "CPU times: user 17.6 s, sys: 22.4 ms, total: 17.6 s\n",
      "Wall time: 17.6 s\n"
     ]
    }
   ],
   "source": [
    "%%time \n",
    "finalclustering(s,k,var=findbestvar(s,vari,k))\n",
    "pass"
   ]
  },
  {
   "cell_type": "markdown",
   "metadata": {},
   "source": [
    "## 3. Function optimization"
   ]
  },
  {
   "cell_type": "markdown",
   "metadata": {},
   "source": [
    "### 3.1 Using JIT"
   ]
  },
  {
   "cell_type": "markdown",
   "metadata": {},
   "source": [
    "In this part we're attempting to optimize the algorithm by using Just-In-Time (JIT) compiler. The advantage of JIT is that it can spped up the application written directly in Python without having to switch languages or Python interpreters.\n",
    "\n",
    "We here tried to use JIT to optimize $affinity(s, var)$, $findbestvar(s,vari,k)$ and $finalclustering(s,k,var)$. The running time is recorded and using $report$ function to generate the speed-up ratio relatively to the original fucntions in pure python."
   ]
  },
  {
   "cell_type": "code",
   "execution_count": 12,
   "metadata": {
    "collapsed": true
   },
   "outputs": [],
   "source": [
    "@jit()\n",
    "def affinity(s, var):\n",
    "    n = np.shape(s)[0]\n",
    "    A = np.zeros((n, n))\n",
    "    for i in range(n):\n",
    "        for j in range(n):\n",
    "            A[i, i] = 0\n",
    "            A[i,j] = np.exp(-(la.norm(s[i] - s[j])**2) / (2*var))\n",
    "    return A\n",
    "\n",
    "@jit()\n",
    "def findbestvar_jit(s,vari,k): \n",
    "    n = np.shape(s)[0]\n",
    "    dis=np.empty((1))\n",
    "    for j in range(len(vari)):\n",
    "        var=vari[j]\n",
    "        A=affinity(s,var)\n",
    "        D = np.zeros((n, n))\n",
    "        for i in range(n):\n",
    "            D[i, i] = 1 / (A[i].sum())\n",
    "\n",
    "        L = np.sqrt(D).dot(A).dot(np.sqrt(D))\n",
    "\n",
    "        value, vector = la.eig(L)\n",
    "\n",
    "        idx = np.argsort(value)[::-1]\n",
    "        value = value[idx]\n",
    "        vector = vector[:, idx]\n",
    "\n",
    "        X = vector[:, 0:k]\n",
    "        Y = X / np.sum(X, 1)[:, np.newaxis]\n",
    "\n",
    "        clusters,data=kmeans(Y, k, max_iter=100)\n",
    "\n",
    "        snew=pd.DataFrame(s)\n",
    "        snew['cluster'] = clusters\n",
    "        b=pd.DataFrame(data)\n",
    "        cluster=list(unique_everseen(clusters))\n",
    "        b['cluster']=cluster\n",
    "        x=pd.merge(snew, b, on='cluster', how='outer')\n",
    "        c=x.ix[:,0:snew.shape[1]-1] \n",
    "        c=np.array(c)\n",
    "        d=x.ix[:,snew.shape[1]:x.shape[1]]\n",
    "        d=np.array(d)\n",
    "        distance=dist(c,d)\n",
    "\n",
    "        dis = np.vstack((dis, distance))\n",
    "    \n",
    "    bestvar=np.argmin(dis)\n",
    "    return(vari[bestvar])"
   ]
  },
  {
   "cell_type": "code",
   "execution_count": 13,
   "metadata": {
    "collapsed": true
   },
   "outputs": [],
   "source": [
    "@jit()\n",
    "def finalclustering_jit(s,k,var):\n",
    "    n = np.shape(s)[0]\n",
    "    A=affinity(s,var)\n",
    "    D = np.zeros((n, n))\n",
    "    for i in range(n):\n",
    "        D[i, i] = 1 / (A[i].sum())\n",
    "\n",
    "    L = np.sqrt(D).dot(A).dot(np.sqrt(D))\n",
    "\n",
    "    value, vector = la.eig(L)\n",
    "\n",
    "    idx = np.argsort(value)[::-1]\n",
    "    value = value[idx]\n",
    "    vector = vector[:, idx]\n",
    "\n",
    "    X = vector[:, 0:k]\n",
    "    Y = X / np.sum(X, 1)[:, np.newaxis]\n",
    "\n",
    "    clusters,data=kmeans(Y, k, max_iter=10)\n",
    "    final=np.concatenate((s, clusters.reshape((len(clusters),1))), axis = 1)\n",
    "    return(final,data,clusters)"
   ]
  },
  {
   "cell_type": "code",
   "execution_count": 29,
   "metadata": {
    "collapsed": false
   },
   "outputs": [
    {
     "name": "stdout",
     "output_type": "stream",
     "text": [
      "Clustering plot using pure python 0.199827 s\n"
     ]
    },
    {
     "data": {
      "image/png": "[encoded data removed]",
      "text/plain": [
       "<matplotlib.figure.Figure at 0x10d090748>"
      ]
     },
     "metadata": {},
     "output_type": "display_data"
    }
   ],
   "source": [
    "import matplotlib.cm as cm\n",
    "\n",
    "start = time.clock()\n",
    "final2=finalclustering_jit(s=s, k=2, var=bestvariance)[0]\n",
    "time_2 = time.clock() - start\n",
    "\n",
    "fig, ax = plt.subplots()\n",
    "ax.scatter(final2[:,0],final2[:,1],c=final2[:,2],cmap=cm.rainbow)\n",
    "\n",
    "print(\"Clustering plot using pure python %f s\" % time_2)\n",
    "\n",
    "pass"
   ]
  },
  {
   "cell_type": "code",
   "execution_count": 14,
   "metadata": {
    "collapsed": false
   },
   "outputs": [
    {
     "name": "stdout",
     "output_type": "stream",
     "text": [
      "CPU times: user 20.1 s, sys: 54.6 ms, total: 20.2 s\n",
      "Wall time: 20.2 s\n"
     ]
    }
   ],
   "source": [
    "%%time \n",
    "finalclustering_jit(s,k,var=findbestvar_jit(s,vari,k))\n",
    "pass"
   ]
  },
  {
   "cell_type": "markdown",
   "metadata": {},
   "source": [
    "### Compare the ratio of speed-up using JIT"
   ]
  },
  {
   "cell_type": "markdown",
   "metadata": {},
   "source": [
    "According to the report, functions using JIT didn't speed up the application and sometimes even slower. It might be possibly because our functions are written based on heavey numpy and scipy packages and JIT can't do much speeding up in this case."
   ]
  },
  {
   "cell_type": "code",
   "execution_count": 15,
   "metadata": {
    "collapsed": true
   },
   "outputs": [],
   "source": [
    "def timer(f, *args, **kwargs):\n",
    "    start = time.clock()\n",
    "    ans = f(*args, **kwargs)\n",
    "    return ans, time.clock() - start"
   ]
  },
  {
   "cell_type": "code",
   "execution_count": 16,
   "metadata": {
    "collapsed": true
   },
   "outputs": [],
   "source": [
    "def report(fs, *args, **kwargs):\n",
    "    ans, t = timer(fs[0], *args, **kwargs)\n",
    "    print('%s: %.1f' % (fs[0].__name__, 1.0))  \n",
    "    for f in fs[1:]:\n",
    "        ans_, t_ = timer(f, *args, **kwargs)\n",
    "        print('%s: %.1f' % (f.__name__, t/t_))"
   ]
  },
  {
   "cell_type": "code",
   "execution_count": 17,
   "metadata": {
    "collapsed": false
   },
   "outputs": [
    {
     "name": "stdout",
     "output_type": "stream",
     "text": [
      "finalclustering: 1.0\n",
      "finalclustering_jit: 1.0\n"
     ]
    }
   ],
   "source": [
    "report([finalclustering, finalclustering_jit], s,k,findbestvar(s,vari,k))"
   ]
  },
  {
   "cell_type": "markdown",
   "metadata": {},
   "source": [
    "### 3.2 Using Cython"
   ]
  },
  {
   "cell_type": "markdown",
   "metadata": {},
   "source": [
    "In this part, we tried Cython to optimize our applications. Cython makes writing C extensions for Python as easy as Python itself. Here we only attempted to optimize the $finalClustering$ function but not the $findBestVariance$ part. Note in the $finalClustering$ function we'd call Kmeans function, and for simplicity, we called sklearn.cluster.KMeans instead of the Kmeans function we wrote ourselves. In addition, we added one more attribute in the Cython function \"D\" which can be found by the function $findD$ to avoid some errors when compiling Cython.\n",
    "\n",
    "We noticed there's still a relatively large part of our code is at Python interaction, so the optimization might not be perfect.\n",
    "\n",
    "Similarly, the running time is recorded for original functions and Cython."
   ]
  },
  {
   "cell_type": "code",
   "execution_count": 1,
   "metadata": {
    "collapsed": true
   },
   "outputs": [],
   "source": [
    "%load_ext Cython"
   ]
  },
  {
   "cell_type": "code",
   "execution_count": 2,
   "metadata": {
    "collapsed": false
   },
   "outputs": [],
   "source": [
    "%%cython \n",
    "\n",
    "import cython\n",
    "from cython.parallel import parallel, prange\n",
    "from sklearn.cluster import KMeans\n",
    "import numpy as np\n",
    "import scipy.linalg as la\n",
    "import pandas as pd\n",
    "from numpy.core.umath_tests import inner1d\n",
    "from more_itertools import unique_everseen\n",
    "@cython.boundscheck(False)\n",
    "@cython.wraparound(False)\n",
    "\n",
    "cdef double[:,:] affinity_cython(double[:,:] s, double var):\n",
    "    cdef int i, j, k, n, m\n",
    "    cdef double s_sum\n",
    "    cdef double[:,:] A\n",
    "    n, m = np.shape(s)\n",
    "    A = np.zeros((n, n))\n",
    "    for i in range(n):\n",
    "        A[i, i] = 0\n",
    "        for j in range(n):\n",
    "            s_sum = 0\n",
    "            for k in range(m):\n",
    "                s_sum += (s[i,k] - s[j,k])**2\n",
    "                A[i,j] = np.exp(-s_sum) / (2*var)\n",
    "    return A\n",
    "    \n",
    "def finalclustering_cython(double[:,:] s, int k, double var, double[:,:] D):\n",
    "    cdef int i, n\n",
    "    cdef long[:] idx\n",
    "    cdef int[:] clusters\n",
    "    cdef int[:,:] clusters_reshaped\n",
    "    cdef double[:,:] A, L, vector, vector_sorted, X, Y, data, final\n",
    "    cdef double[:] value, sum_A\n",
    "    \n",
    "    n = np.shape(s)[0]\n",
    "    A=affinity_cython(s,var)\n",
    "        \n",
    "    L = np.sqrt(D).dot(A).dot(np.sqrt(D))\n",
    "    value = la.eig(L)[0].real\n",
    "    vector = la.eig(L)[1].real\n",
    "    \n",
    "    idx = np.argsort(value)[::-1]\n",
    "    vector_sorted = np.empty((n, n))\n",
    "    for i in range(n):\n",
    "        vector_sorted[i] = vector[idx[i]]\n",
    "        \n",
    "    X = vector[:, 0:k]\n",
    "    Y = X / np.sum(X, 1)[:, np.newaxis]\n",
    "    clusters = KMeans(k).fit_predict(Y)\n",
    "    clusters_reshaped = np.empty((n, 1), dtype=np.int32)\n",
    "    for i in range(n):\n",
    "        clusters_reshaped[i][0] = clusters[i]\n",
    "    final = np.concatenate((s, clusters_reshaped), axis = 1)\n",
    "    return final"
   ]
  },
  {
   "cell_type": "code",
   "execution_count": 28,
   "metadata": {
    "collapsed": false
   },
   "outputs": [
    {
     "name": "stdout",
     "output_type": "stream",
     "text": [
      "Clustering plot using pure python 0.218746 s\n"
     ]
    },
    {
     "data": {
      "image/png": "[encoded data removed]",
      "text/plain": [
       "<matplotlib.figure.Figure at 0x10d5fcb38>"
      ]
     },
     "metadata": {},
     "output_type": "display_data"
    }
   ],
   "source": [
    "import matplotlib.cm as cm\n",
    "\n",
    "start = time.clock()\n",
    "d = findD(s)\n",
    "final3=finalclustering_cython(s=s, k=2, var=bestvariance, D = d)\n",
    "time_3 = time.clock() - start\n",
    "\n",
    "fig, ax = plt.subplots()\n",
    "ax.scatter(final3[:,0],final3[:,1],c=final3[:,2],cmap=cm.rainbow)\n",
    "\n",
    "print(\"Clustering plot using pure python %f s\" % time_3)\n",
    "\n",
    "pass"
   ]
  },
  {
   "cell_type": "markdown",
   "metadata": {},
   "source": [
    "### Compare the ratio of speed-up using Cython\n",
    "\n",
    "Comparing the times of pure Python and Cython, Cython didn't do much on speeding up, the speed up ratio is below 10. And for illlustration, we just used sample size of 100 so we don't see much speed up here."
   ]
  },
  {
   "cell_type": "code",
   "execution_count": 26,
   "metadata": {
    "collapsed": false
   },
   "outputs": [
    {
     "name": "stdout",
     "output_type": "stream",
     "text": [
      "CPU times: user 184 ms, sys: 3.13 ms, total: 187 ms\n",
      "Wall time: 188 ms\n"
     ]
    }
   ],
   "source": [
    "%%time \n",
    "finalclustering(s,k,bestvariance)\n",
    "pass"
   ]
  },
  {
   "cell_type": "code",
   "execution_count": 23,
   "metadata": {
    "collapsed": false
   },
   "outputs": [
    {
     "name": "stdout",
     "output_type": "stream",
     "text": [
      "CPU times: user 44.6 ms, sys: 2.24 ms, total: 46.9 ms\n",
      "Wall time: 45.6 ms\n"
     ]
    }
   ],
   "source": [
    "%%time \n",
    "finalclustering_cython(s,k,bestvariance,d)\n",
    "pass"
   ]
  },
  {
   "cell_type": "markdown",
   "metadata": {},
   "source": [
    "## References"
   ]
  },
  {
   "cell_type": "markdown",
   "metadata": {},
   "source": [
    "#### 1. Ng, Andrew Y., Michael I. Jordan, and Yair Weiss. \"On spectral clustering: Analysis and an algorithm.\" Advances in neural information processing systems 2 (2002): 849-856."
   ]
  }
 ],
 "metadata": {
  "kernelspec": {
   "display_name": "Python 3",
   "language": "python",
   "name": "python3"
  },
  "language_info": {
   "codemirror_mode": {
    "name": "ipython",
    "version": 3
   },
   "file_extension": ".py",
   "mimetype": "text/x-python",
   "name": "python",
   "nbconvert_exporter": "python",
   "pygments_lexer": "ipython3",
   "version": "3.5.1"
  }
 },
 "nbformat": 4,
 "nbformat_minor": 0
}
