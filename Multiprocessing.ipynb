{
 "cells": [
  {
   "cell_type": "code",
   "execution_count": 1,
   "metadata": {
    "collapsed": true
   },
   "outputs": [],
   "source": [
    "import numpy as np\n",
    "import scipy.linalg as la\n",
    "from numpy.core.umath_tests import inner1d\n",
    "%matplotlib inline\n",
    "import warnings\n",
    "warnings.filterwarnings(\"ignore\")\n",
    "import pandas as pd\n",
    "from matplotlib import pyplot as plt\n",
    "from more_itertools import unique_everseen\n",
    "import numba\n",
    "from numba import *\n",
    "import time\n",
    "import timeit\n",
    "from numpy.testing import assert_almost_equal\n",
    "from sklearn.cluster import KMeans\n",
    "from sklearn.datasets.samples_generator import make_blobs\n",
    "import matplotlib.cm as cm\n",
    "from sklearn import cluster, datasets\n",
    "from sklearn.neighbors import kneighbors_graph\n",
    "from sklearn.preprocessing import StandardScaler\n",
    "from multiprocessing import Pool, Value, Array\n",
    "import multiprocessing"
   ]
  },
  {
   "cell_type": "code",
   "execution_count": 2,
   "metadata": {
    "collapsed": true
   },
   "outputs": [],
   "source": [
    "def dist(x,y):   \n",
    "    return np.sum((x-y)**2)"
   ]
  },
  {
   "cell_type": "code",
   "execution_count": 8,
   "metadata": {
    "collapsed": true
   },
   "outputs": [],
   "source": [
    "def affinity(s, var):\n",
    "    n = np.shape(s)[0]\n",
    "    A = np.zeros((n, n))\n",
    "    for i in range(n):\n",
    "        for j in range(n):\n",
    "            A[i, i] = 0\n",
    "            A[i,j] = np.exp(-(la.norm(s[i] - s[j])**2) / (2*var))\n",
    "    return A\n",
    "\n",
    "def originalkmeans(y, k, max_iter=300):\n",
    "    idx = np.random.choice(len(y), k, replace=False)\n",
    "    idx_data = y[idx]\n",
    "    for i in range(max_iter):\n",
    "        dist = np.array([inner1d(y-c, y-c) for c in idx_data])\n",
    "        clusters = np.argmin(dist, axis=0)\n",
    "        idx_data = np.array([y[clusters==i].mean(axis=0) for i in range(k)])\n",
    "    return (clusters, idx_data)\n",
    "\n",
    "\n",
    "def findbestvar(s,vari=np.linspace(.1, 5, 100),k=2):                  #to find best variance\n",
    "    n = np.shape(s)[0]\n",
    "    dis=[]\n",
    "    for j in range(len(vari)):\n",
    "        var=vari[j]\n",
    "        A=affinity(s,var)\n",
    "        D = np.zeros((n, n))\n",
    "        for i in range(n):\n",
    "            D[i, i] = 1 / (A[i].sum())\n",
    "\n",
    "\n",
    "        L = np.sqrt(D).dot(A).dot(np.sqrt(D))\n",
    "\n",
    "        value, vector = la.eig(L)\n",
    "\n",
    "        idx = np.argsort(value)[::-1]\n",
    "        value = value[idx]\n",
    "        vector = vector[:, idx]\n",
    "\n",
    "        X = vector[:, 0:k]\n",
    "        Y = X / np.sum(X, 1)[:, np.newaxis]\n",
    "\n",
    "        clusters,data=originalkmeans(Y, k, max_iter=300)\n",
    "\n",
    "        snew=pd.DataFrame(s)\n",
    "        snew['cluster'] = clusters\n",
    "        b=pd.DataFrame(data)\n",
    "        cluster=list(unique_everseen(clusters))\n",
    "        b['cluster']=cluster\n",
    "        x=pd.merge(snew, b, on='cluster', how='outer')\n",
    "        c=x.ix[:,0:snew.shape[1]-1] \n",
    "        c=np.array(c)\n",
    "        d=x.ix[:,snew.shape[1]:x.shape[1]]\n",
    "        d=np.array(d)\n",
    "        distance=dist(c,d)\n",
    "\n",
    "        dis.append(distance)\n",
    "    \n",
    "    bestvar=np.argmin(dis)\n",
    "    return(vari[bestvar])\n"
   ]
  },
  {
   "cell_type": "code",
   "execution_count": null,
   "metadata": {
    "collapsed": true
   },
   "outputs": [],
   "source": [
    "def finalclustering(s,k,var):\n",
    "    n = np.shape(s)[0]\n",
    "    A=affinity(s,var)\n",
    "    D = np.zeros((n, n))\n",
    "    for i in range(n):\n",
    "        D[i, i] = 1 / (A[i].sum())\n",
    "    D = np.zeros((n, n))\n",
    "    for i in range(n):\n",
    "        D[i, i] = 1 / (A[i].sum())\n",
    "\n",
    "    L = np.sqrt(D).dot(A).dot(np.sqrt(D))\n",
    "\n",
    "    value, vector = la.eig(L)\n",
    "\n",
    "    idx = np.argsort(value)[::-1]\n",
    "    value = value[idx]\n",
    "    vector = vector[:, idx]\n",
    "\n",
    "    X = vector[:, 0:k]\n",
    "    Y = X / np.sum(X, 1)[:, np.newaxis]\n",
    "\n",
    "    clusters,data=originalkmeans(Y, k, max_iter=10)\n",
    "    final=np.concatenate((s, clusters.reshape((len(clusters),1))), axis = 1)\n",
    "    return(final,data,clusters)"
   ]
  },
  {
   "cell_type": "code",
   "execution_count": null,
   "metadata": {
    "collapsed": false
   },
   "outputs": [],
   "source": [
    "s = np.array([[2,1], [3,4], [5,4]]) \n",
    "\n",
    "vari= np.linspace(.01, 4, 1000)\n",
    "k = 2\n",
    "bestvariance=findbestvar(s)\n",
    "bestvariance"
   ]
  },
  {
   "cell_type": "code",
   "execution_count": null,
   "metadata": {
    "collapsed": false
   },
   "outputs": [],
   "source": [
    "finalclustering(s,k,var=bestvariance)\n",
    "\n",
    "x,y,z=finalclustering(s,k,var=bestvariance)\n",
    "print(x)\n",
    "print(y)\n",
    "print(z)"
   ]
  },
  {
   "cell_type": "code",
   "execution_count": 10,
   "metadata": {
    "collapsed": true
   },
   "outputs": [],
   "source": [
    "from sklearn.cluster import KMeans\n",
    "from sklearn.datasets.samples_generator import make_blobs\n",
    "\n",
    "\n",
    "batch_size = 50\n",
    "centers = [[5, 5], [10, 10]]\n",
    "n_clusters = len(centers)\n",
    "X, labels_true = make_blobs(n_samples=500, centers=centers, cluster_std=0.7)\n",
    "\n",
    "s=X"
   ]
  },
  {
   "cell_type": "code",
   "execution_count": null,
   "metadata": {
    "collapsed": false
   },
   "outputs": [],
   "source": [
    "vari= np.linspace(0.01, 10, 1000)\n",
    "k = 2\n",
    "bestvariance=findbestvar(s,vari,k)\n",
    "#final,centers,clusters=finalclustering(s,k,var=bestvariance)"
   ]
  },
  {
   "cell_type": "code",
   "execution_count": 16,
   "metadata": {
    "collapsed": false
   },
   "outputs": [
    {
     "name": "stdout",
     "output_type": "stream",
     "text": [
      "CPU times: user 20.2 ms, sys: 38.8 ms, total: 59.1 ms\n",
      "Wall time: 39.1 s\n"
     ]
    }
   ],
   "source": [
    "%%time\n",
    "\n",
    "count = multiprocessing.cpu_count()\n",
    "\n",
    "parts = np.array_split(s, count)\n",
    "with multiprocessing.Pool() as pool:\n",
    "    v= pool.map(findbestvar, parts)\n"
   ]
  },
  {
   "cell_type": "code",
   "execution_count": 20,
   "metadata": {
    "collapsed": false
   },
   "outputs": [],
   "source": [
    "mean=np.mean(v)"
   ]
  },
  {
   "cell_type": "code",
   "execution_count": 21,
   "metadata": {
    "collapsed": false
   },
   "outputs": [],
   "source": [
    "def finalclustering(s,k=2,var=mean):\n",
    "    n = np.shape(s)[0]\n",
    "    A=affinity(s,var)\n",
    "    D = np.zeros((n, n))\n",
    "    for i in range(n):\n",
    "        D[i, i] = 1 / (A[i].sum())\n",
    "    D = np.zeros((n, n))\n",
    "    for i in range(n):\n",
    "        D[i, i] = 1 / (A[i].sum())\n",
    "\n",
    "    L = np.sqrt(D).dot(A).dot(np.sqrt(D))\n",
    "\n",
    "    value, vector = la.eig(L)\n",
    "\n",
    "    idx = np.argsort(value)[::-1]\n",
    "    value = value[idx]\n",
    "    vector = vector[:, idx]\n",
    "\n",
    "    X = vector[:, 0:k]\n",
    "    Y = X / np.sum(X, 1)[:, np.newaxis]\n",
    "\n",
    "    clusters,data=originalkmeans(Y, k, max_iter=10)\n",
    "    final=np.concatenate((s, clusters.reshape((len(clusters),1))), axis = 1)\n",
    "    return(final,data,clusters)"
   ]
  },
  {
   "cell_type": "code",
   "execution_count": 22,
   "metadata": {
    "collapsed": false
   },
   "outputs": [
    {
     "name": "stdout",
     "output_type": "stream",
     "text": [
      "CPU times: user 6.52 ms, sys: 26.3 ms, total: 32.9 ms\n",
      "Wall time: 336 ms\n"
     ]
    }
   ],
   "source": [
    "%%time\n",
    "\n",
    "\n",
    "count = multiprocessing.cpu_count()\n",
    "\n",
    "parts = np.array_split(s, count)\n",
    "with multiprocessing.Pool() as pool:\n",
    "    y= pool.map(finalclustering, parts)\n"
   ]
  }
 ],
 "metadata": {
  "kernelspec": {
   "display_name": "Python 3",
   "language": "python",
   "name": "python3"
  },
  "language_info": {
   "codemirror_mode": {
    "name": "ipython",
    "version": 3
   },
   "file_extension": ".py",
   "mimetype": "text/x-python",
   "name": "python",
   "nbconvert_exporter": "python",
   "pygments_lexer": "ipython3",
   "version": "3.4.4"
  }
 },
 "nbformat": 4,
 "nbformat_minor": 0
}
