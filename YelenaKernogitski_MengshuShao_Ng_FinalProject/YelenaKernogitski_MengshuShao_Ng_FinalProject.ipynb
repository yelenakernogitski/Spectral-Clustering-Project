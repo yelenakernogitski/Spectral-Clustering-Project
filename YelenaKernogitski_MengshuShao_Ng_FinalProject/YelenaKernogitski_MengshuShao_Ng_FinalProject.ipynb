{
 "cells": [
  {
   "cell_type": "markdown",
   "metadata": {},
   "source": [
    "# Spectral Clustering"
   ]
  },
  {
   "cell_type": "markdown",
   "metadata": {},
   "source": [
    "### Project members:\n",
    "Mengshu Shao, Yelena Kernogitski\n",
    "\n",
    "### GitHub Repositories: \n",
    "https://github.com/yelenakernogitski/Spectral-Clustering-Project"
   ]
  },
  {
   "cell_type": "markdown",
   "metadata": {},
   "source": [
    "## Abstract\n",
    "Clustering is one of the building blocks in modern data analysis, and has been widely used in machine learning and pattern recognition. Two commonly used approaches are K-means and learning a mixture model using EM. However, these methods have some drawbacks, such as violation of the harsh simplifying assumption which the density of each cluster is Gaussian. One method that provides a possible solution in finding useful clusters is spectral clustering, which utilizes eigenvectors derived from the distance between points. The method performs dimensionality reduction in order to find clusters. In this report, First we implement a simple spectral clustering algorithm for clustering points in . Second we analyze how it works in “ideal” case in which the points are far apart, and in general case in which affinity’s off-diagonal blocks are non-zero. Then we test the algorithm by applying it to a number of challenging clustering problems. Further, we attempt to optimize the algorithm using within-Python options (such as vectorization) in addition to JIT and Cython wrapping functions. We also attempt to optimize our method by using multiprocessing parallel computing. Finally, we compare our algorithm which includes spectral clustering and subsequent Kmeans to using only spectral or Kmeans clustering. "
   ]
  },
  {
   "cell_type": "markdown",
   "metadata": {},
   "source": [
    "## 1. Introduction"
   ]
  },
  {
   "cell_type": "markdown",
   "metadata": {},
   "source": [
    "A significant aim of machine learning and pattern recognition is finding appropriate clusters that are able to accurately classify data points. Two standard approaches used in clustering are K-means and Expectation-Maximazation which allow for learning a mixture model. The latter has severe drawbacks where we must estimate the density of each cluster to be Gaussian due to parametric assumptions, and the log likelihood may result in getting caught in a local minima, and many various initial values may need to be used [1]. K-means clustering by itself leads to other problems, such as not being able to accomodate non-spherical data, and other complex datasets. A method that provides a possible solution in finding useful clusters in spectral clustering, which utilizes eigenvectors derived from the distance between points. An additional part of our algorithm uses the eigenvectors found in K-means clustering, as opposed to using the original dataset found. It has been found in empirical studies that the latter method is more accurate in classifying clusters [1]. In this report, we first implement our spectral clustering algorithm for clustering point in $\\mathbb{R}^n$ in simple python code. Second, we check whether the algorithm works using an \"ideal\" case in which the points are far apart. We then attempt to optimize our algorithm by using various methods--such as vectorization, JIT, and cython wrapping funcions. Next, we try to optimize our algorithm using multiprocessing parallel computing. Finally, we apply the algorithm to a number of challenging clustering problems and compare our algorithm to using only kmeans or spectral clustering."
   ]
  },
  {
   "cell_type": "markdown",
   "metadata": {},
   "source": [
    "### 1.1 Background of Method"
   ]
  },
  {
   "cell_type": "markdown",
   "metadata": {},
   "source": [
    "Spectral clustering has become a popular way of clustering data, especially when trying to do exploratory data analysis in a number of fields. Spectral clustering relies on using eigendecomposition to find optimal clusters. Spectral clustering has been empirically shown to outperform methods like simply k-means or single linkage [2]. An important part of spectral clustering are Laplacian matrices, which is then used in the eigendecomposition. The original data is transformed into its affinity matrix, or a similarity matrix which is a symmetric matrix which measures the similarity between data points by index. This which is then used to construct the Laplacian matrix. Laplacian matrices are generally matrix representation of a graph and have been described previously [3]. Spectral clustering has been modified to optimize in specific ways, where at times the Laplacian matrix is either normalized in a particular way, or not normalized and the treatment of the eigenvectors is further open to variation [2]. Our method in particular uses the symmetric normalized Laplacian matrix. "
   ]
  },
  {
   "cell_type": "markdown",
   "metadata": {},
   "source": [
    "## 2. Spectral Clustering Algorithm"
   ]
  },
  {
   "cell_type": "markdown",
   "metadata": {},
   "source": [
    "Our algorithm has been previously described in (Ng et al, 2002). Provided a set of points $S= {s_1,...,s_n}$ in $\\mathbb{R}^l$ that we want to clsuter into $k$ subsets:\n",
    "\n",
    "$1.$ Define the affinity matrix $A \\in \\mathbb{R}^{nxn}$ by $A_{ij}=exp(-||s_i-s_j||^2 / 2\\sigma^2)$ if $i\\neq{j}$, and $A_{ii}=0$.\n",
    "    \n",
    "    \n",
    "$2.$ Create a diagonal matrix whose ($i$,$i$) element is the sum of $A's$ i-th row, and construct L, where $L= D^{-1/2}AD^{-1/2}$.\n",
    "    \n",
    "    \n",
    "$3.$ Find ${x_1,...,x_n}$, the $k$ largest eigenvectors of $L$, which are chosen to be orthogonal to one another in the chance there are repeated eigenvalues. Then create the matrix $X$, by placing the k eigenvectors in columns.\n",
    "    \n",
    "    \n",
    "$4.$ Use $X$ to form the matrix $Y$, by normalizing each X's rows to have unit length (i.e. $Y_{ij}=X_{ij}/(\\sum_{j}{}X_{ij}^2)^{1/2}$). \n",
    "    \n",
    "    \n",
    "$5.$ Treating each row of $Y$ as a point in $\\mathbb{R}^k$, cluster into $k$ clusters using K-means\n",
    "    \n",
    "    \n",
    "$6.$ Assign the original point $s_i$ to cluster $j$ if row $i$ of the matrix $Y$ was assigned to cluster $j$. "
   ]
  },
  {
   "cell_type": "markdown",
   "metadata": {},
   "source": [
    "Our scaling parameter $\\sigma^2$ was found by minimizing the distortion of the Y matrix and the clustering centers that correspond to each assigned cluster. The distortion was found by summing over the Euclidean distances between each data point and the center of its assigned cluster. We found $\\sigma^2$ by using an iterative procedure to find which value of $\\sigma^2$ minimized the distortion. Generally, $\\sigma^2$ can be determined using human input, but this process automizes the procedure. \n",
    "\n",
    "In this report we followed the algorithm described in (Ng et al, 2002) closely. We assumed that the eigenvectors are chosen to be orthogonal to one another based on the eigenvector-calculating method in scipy. This was not further analyzed. Further, the assumptions and proofs can be referenced in the paper, but the derivation is outside the scope of this report. \n",
    "\n",
    "Additiaonally, this paper suggested to automate the ideal variance to use in our algorithm (Step 1 above, in finding affinity matrix). The authors found a variance by searching over various  variances to find one that minimizes the distortion, or gives the tightest clusters [1]. This method of finding the variance was not used as a formal algorithm in the paper, but in our report we use our optimal-variance-finder function in one of our optimization methods. "
   ]
  },
  {
   "cell_type": "markdown",
   "metadata": {},
   "source": [
    "### 2.1 Algorithm"
   ]
  },
  {
   "cell_type": "code",
   "execution_count": 1,
   "metadata": {
    "collapsed": false
   },
   "outputs": [],
   "source": [
    "import numpy as np\n",
    "import scipy.linalg as la\n",
    "from numpy.core.umath_tests import inner1d\n",
    "%matplotlib inline\n",
    "import warnings\n",
    "warnings.filterwarnings(\"ignore\")\n",
    "import pandas as pd\n",
    "from matplotlib import pyplot as plt\n",
    "import matplotlib.cm as cm\n",
    "from more_itertools import unique_everseen\n",
    "import numba\n",
    "from numba import *\n",
    "import time\n",
    "import timeit\n",
    "from numpy.testing import assert_almost_equal\n",
    "import sklearn.cluster as sc\n",
    "from sklearn.datasets.samples_generator import make_blobs\n",
    "import matplotlib.cm as cm\n",
    "from sklearn import cluster, datasets\n",
    "from sklearn.neighbors import kneighbors_graph\n",
    "from sklearn.preprocessing import StandardScaler\n",
    "from multiprocessing import Pool, Value, Array\n",
    "import multiprocessing\n",
    "from timeit import default_timer as timer\n",
    "import random"
   ]
  },
  {
   "cell_type": "markdown",
   "metadata": {},
   "source": [
    "For detailed algorithm and illustration of the algorithm, please refer to the \"Illustration_of_Algorithm.ipynb\". Here we'll mainly list the functions we used in our application. For Cython and Mltiprocessing part, we created some new sub-functions to make the program easier without change to the results."
   ]
  },
  {
   "cell_type": "markdown",
   "metadata": {},
   "source": [
    "#### Algorithm Step 1: Form the affinity matrix"
   ]
  },
  {
   "cell_type": "markdown",
   "metadata": {},
   "source": [
    "$\\textbf{affinity}(s, var)$\n",
    "* Form the affinity matrix\n",
    "* Parameters\n",
    "    * s: array-like, shape (n_samples, n_features)\n",
    "        * Training vectors, where n_samples is the number of samples and n_features is the number of features.\n",
    "    * var: float, $\\sigma^2$\n",
    "        * scaling parameter controlling how rapidly the affinity $A_{ij}$ falls off with the distance between $s_i$ and $s_j$.\n",
    "* Returns\n",
    "    * A: array-like, shape (n_samples, n_samples)\n",
    "        * Affinity matrix.\n",
    "      "
   ]
  },
  {
   "cell_type": "code",
   "execution_count": 2,
   "metadata": {
    "collapsed": false
   },
   "outputs": [],
   "source": [
    "def affinity(s, var):\n",
    "    n = np.shape(s)[0]\n",
    "    A = np.zeros((n, n))\n",
    "    for i in range(n):\n",
    "        for j in range(n):\n",
    "            A[i, i] = 0\n",
    "            A[i,j] = np.exp(-(la.norm(s[i] - s[j])**2) / (2*var))\n",
    "    return A"
   ]
  },
  {
   "cell_type": "markdown",
   "metadata": {},
   "source": [
    "#### Algorithm Step 2: Create the D and L matrix"
   ]
  },
  {
   "cell_type": "markdown",
   "metadata": {},
   "source": [
    "$\\textbf{findD}(s)$\n",
    "* Form the affinity matrix\n",
    "* Parameters\n",
    "    * s: array-like, shape (n_samples, n_features)\n",
    "        * Training vectors, where n_samples is the number of samples and n_features is the number of features.\n",
    "* Returns\n",
    "    * D: array-like, shape (n_samples, n_samples)\n",
    "        * A diagonal matrix whose ($i$,$i$) element is the sum of $A's$ i-th row."
   ]
  },
  {
   "cell_type": "code",
   "execution_count": 3,
   "metadata": {
    "collapsed": true
   },
   "outputs": [],
   "source": [
    "def findD(s):\n",
    "    n = np.shape(s)[0]\n",
    "    A = affinity(s, var=bestvariance)\n",
    "    D = np.zeros((n, n))\n",
    "    for i in range(n):\n",
    "        D[i, i] = 1/(A[i].sum())\n",
    "    return D"
   ]
  },
  {
   "cell_type": "code",
   "execution_count": 4,
   "metadata": {
    "collapsed": false
   },
   "outputs": [],
   "source": [
    "#L = np.sqrt(D).dot(A).dot(np.sqrt(D))               These commented parts are embedded in the final function"
   ]
  },
  {
   "cell_type": "markdown",
   "metadata": {},
   "source": [
    "#### Algorithm Step 3: Find k largest eigenvectors and place in X matrix"
   ]
  },
  {
   "cell_type": "code",
   "execution_count": 5,
   "metadata": {
    "collapsed": false
   },
   "outputs": [],
   "source": [
    "#value, vector = la.eig(L)\n",
    "#idx = np.argsort(value)[::-1]\n",
    "#value = value[idx]\n",
    "#vector = vector[:, idx]\n",
    "#X = vector[:, 0:k]"
   ]
  },
  {
   "cell_type": "markdown",
   "metadata": {},
   "source": [
    "#### Algorithm Step 4: Find Y matrix by normalizing X"
   ]
  },
  {
   "cell_type": "code",
   "execution_count": 6,
   "metadata": {
    "collapsed": true
   },
   "outputs": [],
   "source": [
    "#Y = X / np.sum(X, 1)[:, np.newaxis]"
   ]
  },
  {
   "cell_type": "markdown",
   "metadata": {},
   "source": [
    "#### Algorithm Step 5: K-means clustering"
   ]
  },
  {
   "cell_type": "markdown",
   "metadata": {},
   "source": [
    "$\\textbf{kmeans_our}(y, k, max_iter=10)$\n",
    "* K-Means Clustering\n",
    "* Parameters\n",
    "    * y: array-like, shape (n_samples, k)\n",
    "        * Training vectors, where n_samples is the number of samples and k is the number of clusters.\n",
    "    * k: int\n",
    "        * The number of clusters to form as well as the number of centroids to generate.\n",
    "    * max_iter: int\n",
    "        * The number of iterations taken to get the final clustering.\n",
    "* Returns\n",
    "    * clusters: array-like, shape (n_samples, 1)\n",
    "        * The clusters of which the data point belongs to.\n",
    "    * idx_data: array-like, shape (k, n_features)\n",
    "        * The centroids generated from K-Means clustering."
   ]
  },
  {
   "cell_type": "code",
   "execution_count": 7,
   "metadata": {
    "collapsed": true
   },
   "outputs": [],
   "source": [
    "def kmeans_our(y, k, max_iter=10):\n",
    "    idx = np.random.choice(len(y), k, replace=False)\n",
    "    idx_data = y[idx]\n",
    "    for i in range(max_iter):\n",
    "        dist = np.array([inner1d(y-c, y-c) for c in idx_data])\n",
    "        clusters = np.argmin(dist, axis=0)\n",
    "        idx_data = np.array([y[clusters==i].mean(axis=0) for i in range(k)])\n",
    "    return (clusters, idx_data)"
   ]
  },
  {
   "cell_type": "markdown",
   "metadata": {},
   "source": [
    "#### Algorithm Step 1-6: Final clustering on the original data set"
   ]
  },
  {
   "cell_type": "markdown",
   "metadata": {},
   "source": [
    "$\\textbf{finalclustering}(s,var,k)$\n",
    "* Final clustering on the datapoints\n",
    "* Parameters\n",
    "    * s: array-like, shape (n_samples, n_features)\n",
    "        * Training vectors, where n_samples is the number of samples and n_features is the number of features.\n",
    "    * var: float\n",
    "        * The best variances.\n",
    "    * k: int\n",
    "        * The number of clusters.\n",
    "* Returns\n",
    "    * final: array-like, shape (n_samples, n_features+1)\n",
    "        * The original set of datapoints with the clusters. \n",
    "    * data: array-like, shape (k, n_features)\n",
    "        * The centroids of K-means clustering.\n",
    "    * clusters: array-like, shape (n_samples)\n",
    "        * The clusters."
   ]
  },
  {
   "cell_type": "code",
   "execution_count": 8,
   "metadata": {
    "collapsed": true
   },
   "outputs": [],
   "source": [
    "def finalclustering(s,k,var,seed=4):\n",
    "    np.random.seed(seed)\n",
    "    n = np.shape(s)[0]\n",
    "    A=affinity(s,var)\n",
    "    D = np.zeros((n, n))\n",
    "    for i in range(n):\n",
    "        D[i, i] = 1 / (A[i].sum())\n",
    "\n",
    "    L = np.sqrt(D).dot(A).dot(np.sqrt(D))\n",
    "\n",
    "    value, vector = la.eig(L)\n",
    "\n",
    "    idx = np.argsort(value)[::-1]\n",
    "    value = value[idx]\n",
    "    vector = vector[:, idx]\n",
    "\n",
    "    X = vector[:, 0:k]\n",
    "    Y = X / np.sum(X, 1)[:, np.newaxis]\n",
    "\n",
    "    clusters,data=kmeans_our(Y, k, max_iter=10)\n",
    "    final=np.concatenate((s, clusters.reshape((len(clusters),1))), axis = 1)\n",
    "    return(final,data,clusters)"
   ]
  },
  {
   "cell_type": "markdown",
   "metadata": {},
   "source": [
    "### 2.2 Find Optimal Variance"
   ]
  },
  {
   "cell_type": "markdown",
   "metadata": {},
   "source": [
    "#### Find the best $\\sigma^2$"
   ]
  },
  {
   "cell_type": "markdown",
   "metadata": {},
   "source": [
    "#### Distortion\n",
    "\n",
    "* Suppose for a point $x$, you replace its coordinates by the cluster center $c_{x}$ it belongs to (lossy compression).\n",
    "* Measure it with squared Euclidean distance: $x(d)$ is the $d-th$ feature dimension, $y(x)$ is the cluster ID that $x$ is in.\n",
    "    * $\\sum_{d=1...D}{}[x(d)-c_{y(x)}(d)]^2$\n",
    "* This is the distortion of a single point x. For the whole dataset, the distortion is:\n",
    "    * $\\sum_{x}{}\\sum_{d=1...D}{}[x(d)-c_{y(x)}(d)]^2$"
   ]
  },
  {
   "cell_type": "markdown",
   "metadata": {},
   "source": [
    "$\\textbf{dist}(x,y)$\n",
    "* Calculate the distance between two matrices\n",
    "* Parameters\n",
    "    * x: array-like \n",
    "        * One of the vectors.\n",
    "    * y: array-like\n",
    "        * One of the vectors.\n",
    "* Returns\n",
    "    * res: float\n",
    "        * Squared Euclidean distance."
   ]
  },
  {
   "cell_type": "code",
   "execution_count": 9,
   "metadata": {
    "collapsed": true
   },
   "outputs": [],
   "source": [
    "def dist(x,y):  \n",
    "    res = np.sum((x-y)**2)\n",
    "    return res"
   ]
  },
  {
   "cell_type": "markdown",
   "metadata": {},
   "source": [
    "$\\textbf{findbestvar}(s,vari,k)$\n",
    "* Find the best variance by minimizing the distortion\n",
    "* Parameters\n",
    "    * s: array-like, shape (n_samples, n_features)\n",
    "        * Training vectors, where n_samples is the number of samples and n_features is the number of features.\n",
    "    * vari: array-like, shape (n_vars)\n",
    "        * An array of possible variances.\n",
    "    * k: int\n",
    "        * The number of clusters\n",
    "* Returns\n",
    "    * vari[bestvar]: float\n",
    "        * The right $\\sigma^2$ with mizimum distortion."
   ]
  },
  {
   "cell_type": "code",
   "execution_count": 10,
   "metadata": {
    "collapsed": false
   },
   "outputs": [],
   "source": [
    "def findbestvar(s,vari,k,seed=5): \n",
    "    np.random.seed(seed)\n",
    "    n = np.shape(s)[0]\n",
    "    dis=[]\n",
    "    for j in range(len(vari)):\n",
    "        var=vari[j]\n",
    "        A=affinity(s,var)\n",
    "        D = np.zeros((n, n))\n",
    "        for i in range(n):\n",
    "            D[i, i] = 1 / (A[i].sum())\n",
    "\n",
    "        L = np.sqrt(D).dot(A).dot(np.sqrt(D))\n",
    "\n",
    "        value, vector = la.eig(L)\n",
    "\n",
    "        idx = np.argsort(value)[::-1]\n",
    "        value = value[idx]\n",
    "        vector = vector[:, idx]\n",
    "\n",
    "        X = vector[:, 0:k]\n",
    "        Y = X / np.sum(X, 1)[:, np.newaxis]\n",
    "\n",
    "        clusters,data=kmeans_our(Y, k, max_iter=100)\n",
    "\n",
    "        snew=pd.DataFrame(s)\n",
    "        snew['cluster'] = clusters\n",
    "        b=pd.DataFrame(data)\n",
    "        cluster=list(unique_everseen(clusters))\n",
    "        b['cluster']=cluster\n",
    "        x=pd.merge(snew, b, on='cluster', how='outer')\n",
    "        c=x.ix[:,0:snew.shape[1]-1] \n",
    "        c=np.array(c)\n",
    "        d=x.ix[:,snew.shape[1]:x.shape[1]]\n",
    "        d=np.array(d)\n",
    "        distance=dist(c,d)\n",
    "\n",
    "        dis.append(distance)\n",
    "    \n",
    "    bestvar=np.argmin(dis)\n",
    "    return(vari[bestvar])\n"
   ]
  },
  {
   "cell_type": "markdown",
   "metadata": {},
   "source": [
    "### 2.2 Test algorithm on \"ideal\" datasets"
   ]
  },
  {
   "cell_type": "markdown",
   "metadata": {},
   "source": [
    "In the previous part, we list all the functions to get to the final clustering of the data points. To better understand the application of the algorithm, we can consider its performance on the \"ideal\" dataset in which all points in different clusters are far apart from each other. Here we generated isotropic Gaussian blobs of sample size 100 with two centers [5,5] and [20,20] for clustering. The data points are obviously belong to two different clusters. \n",
    "\n",
    "Then to find the best variance for this case, use $finalclustering(s,k,var=bestvariance)$ to cluster the data points into 2 clusters. We set the possible variances to be evenly spaced numbers from 0.01 to 10 and chose the best variance by minimizing the distortion.\n",
    "\n",
    "The clustered points are shown in the figure below. According to the figure, under the \"ideal\" case where the data points in different clusters are far apart, our algorithm behaves well on clustering. \n",
    "\n",
    "We also recorded the time in order to compare it with JIT and Cython."
   ]
  },
  {
   "cell_type": "code",
   "execution_count": 11,
   "metadata": {
    "collapsed": false
   },
   "outputs": [],
   "source": [
    "batch_size = 100\n",
    "centers = [[5, 5], [20, 20]]\n",
    "n_clusters = len(centers)\n",
    "X, labels_true = make_blobs(n_samples=100, centers=centers, cluster_std=0.7,random_state=5)\n",
    "\n",
    "s=X"
   ]
  },
  {
   "cell_type": "code",
   "execution_count": 12,
   "metadata": {
    "collapsed": false
   },
   "outputs": [
    {
     "data": {
      "image/png": "[encoded data removed]",
      "text/plain": [
       "<matplotlib.figure.Figure at 0x7fa5e7f8da20>"
      ]
     },
     "metadata": {},
     "output_type": "display_data"
    }
   ],
   "source": [
    "fig, ax = plt.subplots()\n",
    "ax.scatter(s[:,0],s[:,1])\n",
    "pass"
   ]
  },
  {
   "cell_type": "code",
   "execution_count": 13,
   "metadata": {
    "collapsed": false
   },
   "outputs": [],
   "source": [
    "vari= np.linspace(0.01, 20, 100)\n",
    "k = 2\n",
    "bestvariance=findbestvar(s,vari,k,seed=2)"
   ]
  },
  {
   "cell_type": "code",
   "execution_count": 14,
   "metadata": {
    "collapsed": false
   },
   "outputs": [
    {
     "data": {
      "text/plain": [
       "3.8464646464646464"
      ]
     },
     "execution_count": 14,
     "metadata": {},
     "output_type": "execute_result"
    }
   ],
   "source": [
    "bestvariance"
   ]
  },
  {
   "cell_type": "code",
   "execution_count": 15,
   "metadata": {
    "collapsed": false
   },
   "outputs": [],
   "source": [
    "final,centers,clusters=finalclustering(s,k,var=bestvariance,seed=6)"
   ]
  },
  {
   "cell_type": "code",
   "execution_count": 16,
   "metadata": {
    "collapsed": false
   },
   "outputs": [
    {
     "name": "stdout",
     "output_type": "stream",
     "text": [
      "Clustering plot using pure python 0.958300 s\n"
     ]
    },
    {
     "data": {
      "image/png": "[encoded data removed]",
      "text/plain": [
       "<matplotlib.figure.Figure at 0x7fa5e24898d0>"
      ]
     },
     "metadata": {},
     "output_type": "display_data"
    }
   ],
   "source": [
    "start = time.clock()\n",
    "final,centers,clusters=finalclustering(s,k,var=bestvariance,seed=7)\n",
    "time_1 = time.clock() - start\n",
    "\n",
    "fig, ax = plt.subplots()\n",
    "ax.scatter(final[:,0],final[:,1],c=final[:,2],cmap=cm.rainbow)\n",
    "\n",
    "print(\"Clustering plot using pure python %f s\" % time_1)\n",
    "\n",
    "pass"
   ]
  },
  {
   "cell_type": "code",
   "execution_count": 17,
   "metadata": {
    "collapsed": false
   },
   "outputs": [
    {
     "name": "stdout",
     "output_type": "stream",
     "text": [
      "CPU times: user 28.5 s, sys: 1min 15s, total: 1min 43s\n",
      "Wall time: 20.5 s\n"
     ]
    }
   ],
   "source": [
    "%%time \n",
    "finalclustering(s,k,var=findbestvar(s,vari,k,seed=9))\n",
    "pass"
   ]
  },
  {
   "cell_type": "markdown",
   "metadata": {},
   "source": [
    "## 3. Function optimization"
   ]
  },
  {
   "cell_type": "markdown",
   "metadata": {},
   "source": [
    "### 3.1 Using JIT"
   ]
  },
  {
   "cell_type": "markdown",
   "metadata": {},
   "source": [
    "In this part we're attempting to optimize the algorithm by using Just-In-Time (JIT) compiler. The advantage of JIT is that it can spped up the application written directly in Python without having to switch languages or Python interpreters.\n",
    "\n",
    "We here tried to use JIT to optimize $affinity(s, var)$, $findbestvar(s,vari,k)$ and $finalclustering(s,k,var)$. The running time is recorded and using $report$ function to generate the speed-up ratio relatively to the original fucntions in pure python."
   ]
  },
  {
   "cell_type": "code",
   "execution_count": 18,
   "metadata": {
    "collapsed": true
   },
   "outputs": [],
   "source": [
    "@jit()\n",
    "def affinity(s, var):\n",
    "    n = np.shape(s)[0]\n",
    "    A = np.zeros((n, n))\n",
    "    for i in range(n):\n",
    "        for j in range(n):\n",
    "            A[i, i] = 0\n",
    "            A[i,j] = np.exp(-(la.norm(s[i] - s[j])**2) / (2*var))\n",
    "    return A\n",
    "\n",
    "@jit()\n",
    "def findbestvar_jit(s,vari,k): \n",
    "    n = np.shape(s)[0]\n",
    "    dis=np.empty((1))\n",
    "    for j in range(len(vari)):\n",
    "        var=vari[j]\n",
    "        A=affinity(s,var)\n",
    "        D = np.zeros((n, n))\n",
    "        for i in range(n):\n",
    "            D[i, i] = 1 / (A[i].sum())\n",
    "\n",
    "        L = np.sqrt(D).dot(A).dot(np.sqrt(D))\n",
    "\n",
    "        value, vector = la.eig(L)\n",
    "\n",
    "        idx = np.argsort(value)[::-1]\n",
    "        value = value[idx]\n",
    "        vector = vector[:, idx]\n",
    "\n",
    "        X = vector[:, 0:k]\n",
    "        Y = X / np.sum(X, 1)[:, np.newaxis]\n",
    "\n",
    "        clusters,data=kmeans_our(Y, k, max_iter=100)\n",
    "\n",
    "        snew=pd.DataFrame(s)\n",
    "        snew['cluster'] = clusters\n",
    "        b=pd.DataFrame(data)\n",
    "        cluster=list(unique_everseen(clusters))\n",
    "        b['cluster']=cluster\n",
    "        x=pd.merge(snew, b, on='cluster', how='outer')\n",
    "        c=x.ix[:,0:snew.shape[1]-1] \n",
    "        c=np.array(c)\n",
    "        d=x.ix[:,snew.shape[1]:x.shape[1]]\n",
    "        d=np.array(d)\n",
    "        distance=dist(c,d)\n",
    "\n",
    "        dis = np.vstack((dis, distance))\n",
    "    \n",
    "    bestvar=np.argmin(dis)\n",
    "    return(vari[bestvar])"
   ]
  },
  {
   "cell_type": "code",
   "execution_count": 19,
   "metadata": {
    "collapsed": true
   },
   "outputs": [],
   "source": [
    "@jit()\n",
    "def finalclustering_jit(s,k,var):\n",
    "    n = np.shape(s)[0]\n",
    "    A=affinity(s,var)\n",
    "    D = np.zeros((n, n))\n",
    "    for i in range(n):\n",
    "        D[i, i] = 1 / (A[i].sum())\n",
    "\n",
    "    L = np.sqrt(D).dot(A).dot(np.sqrt(D))\n",
    "\n",
    "    value, vector = la.eig(L)\n",
    "\n",
    "    idx = np.argsort(value)[::-1]\n",
    "    value = value[idx]\n",
    "    vector = vector[:, idx]\n",
    "\n",
    "    X = vector[:, 0:k]\n",
    "    Y = X / np.sum(X, 1)[:, np.newaxis]\n",
    "\n",
    "    clusters,data=kmeans_our(Y, k, max_iter=10)\n",
    "    final=np.concatenate((s, clusters.reshape((len(clusters),1))), axis = 1)\n",
    "    return(final,data,clusters)"
   ]
  },
  {
   "cell_type": "code",
   "execution_count": 20,
   "metadata": {
    "collapsed": false
   },
   "outputs": [
    {
     "name": "stdout",
     "output_type": "stream",
     "text": [
      "Clustering plot using pure python 1.195447 s\n"
     ]
    },
    {
     "data": {
      "image/png": "[encoded data removed]",
      "text/plain": [
       "<matplotlib.figure.Figure at 0x7fa5e1f58320>"
      ]
     },
     "metadata": {},
     "output_type": "display_data"
    }
   ],
   "source": [
    "import matplotlib.cm as cm\n",
    "\n",
    "start = time.clock()\n",
    "final2=finalclustering_jit(s=s, k=2, var=bestvariance)[0]\n",
    "time_2 = time.clock() - start\n",
    "\n",
    "fig, ax = plt.subplots()\n",
    "ax.scatter(final2[:,0],final2[:,1],c=final2[:,2],cmap=cm.rainbow)\n",
    "\n",
    "print(\"Clustering plot using pure python %f s\" % time_2)\n",
    "\n",
    "pass"
   ]
  },
  {
   "cell_type": "code",
   "execution_count": 21,
   "metadata": {
    "collapsed": false
   },
   "outputs": [
    {
     "name": "stdout",
     "output_type": "stream",
     "text": [
      "CPU times: user 29.4 s, sys: 1min 11s, total: 1min 40s\n",
      "Wall time: 22 s\n"
     ]
    }
   ],
   "source": [
    "%%time \n",
    "finalclustering_jit(s,k,var=findbestvar_jit(s,vari,k))\n",
    "pass"
   ]
  },
  {
   "cell_type": "markdown",
   "metadata": {},
   "source": [
    "### Compare the ratio of speed-up using JIT"
   ]
  },
  {
   "cell_type": "markdown",
   "metadata": {},
   "source": [
    "According to the report, functions using JIT didn't speed up the application and sometimes even slower. It might be possibly because our functions are written based on heavey numpy and scipy packages and JIT can't do much speeding up in this case."
   ]
  },
  {
   "cell_type": "code",
   "execution_count": 22,
   "metadata": {
    "collapsed": true
   },
   "outputs": [],
   "source": [
    "def timer(f, *args, **kwargs):\n",
    "    start = time.clock()\n",
    "    ans = f(*args, **kwargs)\n",
    "    return ans, time.clock() - start"
   ]
  },
  {
   "cell_type": "code",
   "execution_count": 23,
   "metadata": {
    "collapsed": true
   },
   "outputs": [],
   "source": [
    "def report(fs, *args, **kwargs):\n",
    "    ans, t = timer(fs[0], *args, **kwargs)\n",
    "    print('%s: %.1f' % (fs[0].__name__, 1.0))  \n",
    "    for f in fs[1:]:\n",
    "        ans_, t_ = timer(f, *args, **kwargs)\n",
    "        print('%s: %.1f' % (f.__name__, t/t_))"
   ]
  },
  {
   "cell_type": "code",
   "execution_count": 24,
   "metadata": {
    "collapsed": false
   },
   "outputs": [
    {
     "name": "stdout",
     "output_type": "stream",
     "text": [
      "finalclustering: 1.0\n",
      "finalclustering_jit: 0.9\n"
     ]
    }
   ],
   "source": [
    "report([finalclustering, finalclustering_jit], s,k,findbestvar(s,vari,k))"
   ]
  },
  {
   "cell_type": "markdown",
   "metadata": {},
   "source": [
    "### 3.2 Using Cython"
   ]
  },
  {
   "cell_type": "markdown",
   "metadata": {},
   "source": [
    "In this part, we tried Cython to optimize our applications. Cython makes writing C extensions for Python as easy as Python itself. Here we only attempted to optimize the $finalClustering$ function but not the $findBestVariance$ part. Note in the $finalClustering$ function we called Kmeans function, and for simplicity, we called sklearn.cluster.KMeans instead of the Kmeans function we wrote ourselves. In addition, we added one more attribute in the Cython function \"D\" which can be found by the function $findD$ to avoid some errors when compiling Cython. So the number of attributes in the Cython function is different from what we have in the original function, but it does not affect the results.\n",
    "\n",
    "We noticed there's still a relatively large part of our code is at Python interaction, so the optimization might not be perfect.\n",
    "\n",
    "Similarly, the running time is recorded for original functions and Cython."
   ]
  },
  {
   "cell_type": "code",
   "execution_count": 25,
   "metadata": {
    "collapsed": true
   },
   "outputs": [],
   "source": [
    "%load_ext Cython"
   ]
  },
  {
   "cell_type": "code",
   "execution_count": 26,
   "metadata": {
    "collapsed": false
   },
   "outputs": [],
   "source": [
    "%%cython \n",
    "\n",
    "import cython\n",
    "from cython.parallel import parallel, prange\n",
    "from sklearn.cluster import KMeans\n",
    "import numpy as np\n",
    "import scipy.linalg as la\n",
    "import pandas as pd\n",
    "from numpy.core.umath_tests import inner1d\n",
    "from more_itertools import unique_everseen\n",
    "@cython.boundscheck(False)\n",
    "@cython.wraparound(False)\n",
    "\n",
    "cdef double[:,:] affinity_cython(double[:,:] s, double var):\n",
    "    cdef int i, j, k, n, m\n",
    "    cdef double s_sum\n",
    "    cdef double[:,:] A\n",
    "    n, m = np.shape(s)\n",
    "    A = np.zeros((n, n))\n",
    "    for i in range(n):\n",
    "        A[i, i] = 0\n",
    "        for j in range(n):\n",
    "            s_sum = 0\n",
    "            for k in range(m):\n",
    "                s_sum += (s[i,k] - s[j,k])**2\n",
    "                A[i,j] = np.exp(-s_sum) / (2*var)\n",
    "    return A\n",
    "    \n",
    "def finalclustering_cython(double[:,:] s, int k, double var, double[:,:] D):\n",
    "    cdef int i, n\n",
    "    cdef long[:] idx\n",
    "    cdef int[:] clusters\n",
    "    cdef int[:,:] clusters_reshaped\n",
    "    cdef double[:,:] A, L, vector, vector_sorted, X, Y, data, final\n",
    "    cdef double[:] value, sum_A\n",
    "    \n",
    "    n = np.shape(s)[0]\n",
    "    A=affinity_cython(s,var)\n",
    "        \n",
    "    L = np.sqrt(D).dot(A).dot(np.sqrt(D))\n",
    "    value = la.eig(L)[0].real\n",
    "    vector = la.eig(L)[1].real\n",
    "    \n",
    "    idx = np.argsort(value)[::-1]\n",
    "    vector_sorted = np.empty((n, n))\n",
    "    for i in range(n):\n",
    "        vector_sorted[i] = vector[idx[i]]\n",
    "        \n",
    "    X = vector[:, 0:k]\n",
    "    Y = X / np.sum(X, 1)[:, np.newaxis]\n",
    "    clusters = KMeans(k).fit_predict(Y)\n",
    "    clusters_reshaped = np.empty((n, 1), dtype=np.int32)\n",
    "    for i in range(n):\n",
    "        clusters_reshaped[i][0] = clusters[i]\n",
    "    final = np.concatenate((s, clusters_reshaped), axis = 1)\n",
    "    return final"
   ]
  },
  {
   "cell_type": "code",
   "execution_count": 27,
   "metadata": {
    "collapsed": false
   },
   "outputs": [
    {
     "name": "stdout",
     "output_type": "stream",
     "text": [
      "Clustering plot using pure python 0.366975 s\n"
     ]
    },
    {
     "data": {
      "image/png": "[encoded data removed]",
      "text/plain": [
       "<matplotlib.figure.Figure at 0x7fa5e0633160>"
      ]
     },
     "metadata": {},
     "output_type": "display_data"
    }
   ],
   "source": [
    "start = time.clock()\n",
    "d = findD(s)\n",
    "final3=finalclustering_cython(s=s, k=2, var=bestvariance, D = d)\n",
    "time_3 = time.clock() - start\n",
    "\n",
    "fig, ax = plt.subplots()\n",
    "ax.scatter(final3[:,0],final3[:,1],c=final3[:,2],cmap=cm.rainbow)\n",
    "\n",
    "print(\"Clustering plot using pure python %f s\" % time_3)\n",
    "\n",
    "pass"
   ]
  },
  {
   "cell_type": "markdown",
   "metadata": {},
   "source": [
    "### Compare the ratio of speed-up using Cython\n",
    "\n",
    "Comparing the times of pure Python and Cython, Cython did not do much on speeding up, the speed up ratio is approximately between 1 and 2. And for illustration, we just used sample size of 100 so we do not see much speed-up here. If comparing the time for the plotting part, the time used for the original function is approximately 0.96s, for numba is 1.48s, and for Cython is 0.35s, so Cython speeds up a little than the original function and numba. "
   ]
  },
  {
   "cell_type": "code",
   "execution_count": 28,
   "metadata": {
    "collapsed": false
   },
   "outputs": [],
   "source": [
    "start = time.clock()\n",
    "finalclustering(s,k,bestvariance)\n",
    "ori=time.clock()-start"
   ]
  },
  {
   "cell_type": "code",
   "execution_count": 29,
   "metadata": {
    "collapsed": false
   },
   "outputs": [],
   "source": [
    "start = time.clock()\n",
    "finalclustering_cython(s,k,bestvariance,d)\n",
    "cyt=time.clock()-start"
   ]
  },
  {
   "cell_type": "code",
   "execution_count": 30,
   "metadata": {
    "collapsed": false
   },
   "outputs": [
    {
     "name": "stdout",
     "output_type": "stream",
     "text": [
      "Ratio of speed up using Cython: 1.3470604494608183\n"
     ]
    }
   ],
   "source": [
    "print(\"Ratio of speed up using Cython:\", ori/cyt)"
   ]
  },
  {
   "cell_type": "markdown",
   "metadata": {},
   "source": [
    "## 4. High Performance Computing "
   ]
  },
  {
   "cell_type": "markdown",
   "metadata": {},
   "source": [
    "As the previous attempts to optimize our code did not improve the computation time, we tried to optimize the code using multiprocessing programming for parallel execution. Given that we find clusters based on the entire dataset, using multiprocessing programming may not be ideal, as information is lost. However, if the dataset is large, the trade-off of some loss of information for faster computing time may be worthwhile. "
   ]
  },
  {
   "cell_type": "markdown",
   "metadata": {},
   "source": [
    "### 4.1 Multiprocessing for Variance Optimizer"
   ]
  },
  {
   "cell_type": "markdown",
   "metadata": {},
   "source": [
    "Our function to find optimal variance for our algorithm is a limiting part of our algorithm pipeline. This is because the algorithm can be run many times (user-defined) to find the optimal variance based on minimum distortion. Dealing with a large dataset makes finding an optimal variance very cumbersome computationally. We attempt to parallelize our function to find the best variance in two different ways: In one, we split our dataset, in the other we split our list of variances to test for least distortion. We created a dataset with 100 observations and tested whether either method would improve computational efficiency. We also checked whether the variance chosen was distinct from the variance chosen when using our original function. We expected the former method, where we split up the dataset, to lose some information, and therefore result in a variance that may not be consistent with the variance found without parallel programming. This issue should decrease with a larger dataset. "
   ]
  },
  {
   "cell_type": "markdown",
   "metadata": {},
   "source": [
    "In order to be able to parallelize the variances checked, we had to partition our functions to smaller ones. The function \n",
    "$matrixY$ does the first part of our full optimal variance-finder algorithm, where we come up with a matrix $Y$ that is then used in Kmeans.\n",
    "\n",
    "$\\textbf{matrixY}(s,var,k=2,seed=55)$\n",
    "* Find Y matrix--normalize eigenvectors of the transformed original data matrix\n",
    "* Parameters\n",
    "    * s: array-like, shape (n_samples, n_features)\n",
    "        * Dataset, where n_samples is the number of samples and n_features is the number of features in data. \n",
    "    * var: int\n",
    "        * The variance to be used in calculation of affinity matrix\n",
    "    * k: int\n",
    "        * The number of eigenvectors to use in kmeans clustering. \n",
    "    * seed: int\n",
    "        * Specify seed for reproducibility.\n",
    "* Returns\n",
    "    * Y: array-like, shape (n_samples, k)\n",
    "        * The Y matrix of our original data, length of k."
   ]
  },
  {
   "cell_type": "markdown",
   "metadata": {},
   "source": [
    "The next part of our optimal variance-finder algorithm requires finding the distortion using the output from function\n",
    "$matrixY$. The following function $findDistortion$ results in a distortion value that can subsequently be used for optimization purposes.  \n",
    "\n",
    "$\\textbf{findDistortion}(Y,s,k=2,seed=6)$\n",
    "* Find distortion using Y matrix and original dataset s. \n",
    "* Parameters\n",
    "    * Y: array-like, shape (n_samples, k)\n",
    "       * Y matrix achieved from using Ymatrix function, where n_samples is the number of samples and k is the number of eigenvectors used.\n",
    "    * s: array-like, shape (n_samples, n_features)\n",
    "        * Dataset, where n_samples is the number of samples and n_features is the number of features in data. \n",
    "    * k: int\n",
    "        * The number of eigenvectors to use in kmeans clustering. \n",
    "    * seed: int\n",
    "        * Specify seed for reproducibility.\n",
    "* Returns\n",
    "    * distance: int\n",
    "        * The distortion found by calculating the distance of the data 2 with the clusters assigned."
   ]
  },
  {
   "cell_type": "markdown",
   "metadata": {},
   "source": [
    "The final part of our optimal variance-finder algorithm requires finding the optimal variance by using out outputs from\n",
    "$matrixY$ and $findDistortion$ to find the variance which results in the smallest variance. This allows us to subsequently use this variance in the final run of the algorithm, or what you would put in as the variable $var$ in our function $finalclustering$ that has been previously described. This function returns the location of the optimal variance in the $vari$ array and the value of the minimum distortion. The reason this function does not return the optimal variance because when we run it in parallel, the variances will be split up and we wanted a simple of finding the minimum distortion from the various splits. \n",
    "\n",
    "$\\textbf{finalvar}(vari)$\n",
    "* Find location in array and distortion value that corresponds to the optimal variance in a given dataset.\n",
    "* Parameters\n",
    "     * vari: array-like, shape (n_vars)\n",
    "        * An array of possible variances. \n",
    "* Returns\n",
    "    * location: int\n",
    "        * The location in the array where the minimum distortion is.\n",
    "    * distortion: int\n",
    "        * The minimum distortion value from all variances tested.  "
   ]
  },
  {
   "cell_type": "markdown",
   "metadata": {},
   "source": [
    "We used the same functions $dist$, $affinity$, $kmeans$, $findbestvar$, and $finalclustering$ that have been previously described. However, we had to assign values of the $findbestvar$ and $finalclustering$ functions in our definition in order to simply run multiprocessing parallel programming. "
   ]
  },
  {
   "cell_type": "code",
   "execution_count": 31,
   "metadata": {
    "collapsed": true
   },
   "outputs": [],
   "source": [
    "def matrixY(s,var,k=2,seed=55):\n",
    "    np.random.seed(seed)\n",
    "    n = np.shape(s)[0] \n",
    "\n",
    "    A=affinity(s,var)\n",
    "    D = np.zeros((n, n))\n",
    "    for i in range(n):\n",
    "        D[i, i] = 1 / (A[i].sum())\n",
    "\n",
    "\n",
    "    L = np.sqrt(D).dot(A).dot(np.sqrt(D))\n",
    "\n",
    "    value, vector = la.eig(L)\n",
    "\n",
    "    idx = np.argsort(value)[::-1]\n",
    "    value = value[idx]\n",
    "    vector = vector[:, idx]\n",
    "\n",
    "    X = vector[:, 0:k]\n",
    "    Y = X / np.sum(X, 1)[:, np.newaxis]\n",
    "    return (Y)\n",
    "\n",
    "def findDistortion(Y,s,k=2,seed=6):\n",
    "    np.random.seed(seed)\n",
    "    clusters,data=kmeans_our(Y, k, max_iter=300)\n",
    "    snew=pd.DataFrame(s)\n",
    "    snew['cluster'] = clusters\n",
    "    b=pd.DataFrame(data)\n",
    "    cluster=list(unique_everseen(clusters))\n",
    "    b['cluster']=cluster\n",
    "    x=pd.merge(snew, b, on='cluster', how='outer')\n",
    "    c=x.ix[:,0:snew.shape[1]-1] \n",
    "    c=np.array(c)\n",
    "    d=x.ix[:,snew.shape[1]:x.shape[1]]\n",
    "    d=np.array(d)\n",
    "    distance=dist(c,d)\n",
    "    return distance\n",
    "\n",
    "\n",
    "\n",
    "def findbestvar(s,vari=np.linspace(.03, 5, 100),k=2,seed=44):                  #to find best variance\n",
    "    np.random.seed(seed)\n",
    "    n = np.shape(s)[0]\n",
    "    dis=[]\n",
    "    for j in range(len(vari)):\n",
    "        var=vari[j]\n",
    "        A=affinity(s,var)\n",
    "        D = np.zeros((n, n))\n",
    "        for i in range(n):\n",
    "            D[i, i] = 1 / (A[i].sum())\n",
    "\n",
    "\n",
    "        L = np.sqrt(D).dot(A).dot(np.sqrt(D))\n",
    "\n",
    "        value, vector = la.eig(L)\n",
    "\n",
    "        idx = np.argsort(value)[::-1]\n",
    "        value = value[idx]\n",
    "        vector = vector[:, idx]\n",
    "\n",
    "        X = vector[:, 0:k]\n",
    "        Y = X / np.sum(X, 1)[:, np.newaxis]\n",
    "\n",
    "        clusters,data=kmeans_our(Y, k, max_iter=300)\n",
    "\n",
    "        snew=pd.DataFrame(s)\n",
    "        snew['cluster'] = clusters\n",
    "        b=pd.DataFrame(data)\n",
    "        cluster=list(unique_everseen(clusters))\n",
    "        b['cluster']=cluster\n",
    "        x=pd.merge(snew, b, on='cluster', how='outer')\n",
    "        c=x.ix[:,0:snew.shape[1]-1] \n",
    "        c=np.array(c)\n",
    "        d=x.ix[:,snew.shape[1]:x.shape[1]]\n",
    "        d=np.array(d)\n",
    "        distance=dist(c,d)\n",
    "\n",
    "        dis.append(distance)\n",
    "    \n",
    "    bestvar=np.argmin(dis)\n",
    "    return(vari[bestvar])\n",
    "\n",
    "def finalclustering(s,k=2,var=0.28,seed=9):   ### Found variance earlier\n",
    "    np.random.seed(seed)\n",
    "    n = np.shape(s)[0]\n",
    "    A=affinity(s,var)\n",
    "    D = np.zeros((n, n))\n",
    "    for i in range(n):\n",
    "        D[i, i] = 1 / (A[i].sum())\n",
    "\n",
    "\n",
    "    L = np.sqrt(D).dot(A).dot(np.sqrt(D))\n",
    "\n",
    "    value, vector = la.eig(L)\n",
    "\n",
    "    idx = np.argsort(value)[::-1]\n",
    "    value = value[idx]\n",
    "    vector = vector[:, idx]\n",
    "\n",
    "    X = vector[:, 0:k]\n",
    "    Y = X / np.sum(X, 1)[:, np.newaxis]\n",
    "\n",
    "    clusters,data=kmeans_our(Y, k, max_iter=10)\n",
    "    final=np.concatenate((s, clusters.reshape((len(clusters),1))), axis = 1)\n",
    "    return(final,data,clusters)\n",
    "\n",
    "def finalvar(var):\n",
    "    dis=[]\n",
    "    for i in var:\n",
    "        Y=matrixY(s,var=i,k=2,seed=6)\n",
    "        dis.append(findDistortion(Y,s,k=2)) \n",
    "        bestvar=np.argmin(dis)\n",
    "        var=np.min(dis)\n",
    "    return(bestvar,var)"
   ]
  },
  {
   "cell_type": "code",
   "execution_count": 32,
   "metadata": {
    "collapsed": true
   },
   "outputs": [],
   "source": [
    "centers = [[5, 5], [10, 10]]\n",
    "n_clusters = len(centers)\n",
    "X, labels_true = make_blobs(n_samples=100, centers=centers, cluster_std=0.5,random_state=310)\n",
    "\n",
    "s=X\n"
   ]
  },
  {
   "cell_type": "code",
   "execution_count": 33,
   "metadata": {
    "collapsed": false
   },
   "outputs": [],
   "source": [
    "start = time.time()\n",
    "vari= np.linspace(0.03, 5, 100)\n",
    "k = 2\n",
    "bestvariance=finalvar(vari)\n",
    "bestvariance=vari[bestvariance[0]]\n",
    "end = time.time()\n",
    "\n",
    "originalvar=(end - start)"
   ]
  },
  {
   "cell_type": "code",
   "execution_count": 34,
   "metadata": {
    "collapsed": true
   },
   "outputs": [],
   "source": [
    "start = time.time()\n",
    "count = multiprocessing.cpu_count()\n",
    "\n",
    "parts = np.array_split(s, count)\n",
    "with multiprocessing.Pool() as pool:\n",
    "    v= pool.map(findbestvar, parts)\n",
    "mean=np.mean(v)\n",
    "\n",
    "end = time.time()\n",
    "\n",
    "parallelvar=(end - start)"
   ]
  },
  {
   "cell_type": "code",
   "execution_count": 35,
   "metadata": {
    "collapsed": true
   },
   "outputs": [],
   "source": [
    "start = time.time()\n",
    "vari=np.linspace(0.03, 5, 100)\n",
    "\n",
    "count = multiprocessing.cpu_count()\n",
    "\n",
    "parts = np.array_split(vari, count)\n",
    "with multiprocessing.Pool() as pool:\n",
    "    v= pool.map(finalvar, parts)\n",
    "mini=[]\n",
    "for j in range(0,len(v)):\n",
    "    mini.append(v[j][1])\n",
    "ind=np.argmin(mini) \n",
    "secondind=v[ind][0]\n",
    "varparallel2=parts[0][secondind]\n",
    "\n",
    "end = time.time()\n",
    "\n",
    "parallelvar2=(end - start)\n"
   ]
  },
  {
   "cell_type": "markdown",
   "metadata": {},
   "source": [
    "### 4.2 Multiprocessing for Main Algorithm"
   ]
  },
  {
   "cell_type": "markdown",
   "metadata": {},
   "source": [
    "We tried to improve our algorithm code by using multiprocessing computing, where we have parallel executions. If the dataset is small, it would not make sense to use multiprocessing as it would dilute the dataset and could create ambiguous clusters. However, a large dataset may allow some parallelism and the increase in computation time may be worth the decrease in complete information. "
   ]
  },
  {
   "cell_type": "code",
   "execution_count": 36,
   "metadata": {
    "collapsed": true
   },
   "outputs": [],
   "source": [
    "start = time.time()\n",
    "x,y,z=finalclustering(s,k=2,var=0.17)\n",
    "end = time.time()\n",
    "original=(end - start)"
   ]
  },
  {
   "cell_type": "code",
   "execution_count": 37,
   "metadata": {
    "collapsed": true
   },
   "outputs": [],
   "source": [
    "start = time.time()\n",
    "\n",
    "count = multiprocessing.cpu_count()\n",
    "\n",
    "parts = np.array_split(s, count)\n",
    "with multiprocessing.Pool() as pool:\n",
    "    y= pool.map(finalclustering, parts)\n",
    "\n",
    "a=[]\n",
    "for i in range(8):\n",
    "    for j in range(len(y[i][0])):\n",
    "        a.append(y[i][0][j])\n",
    "a=np.array(a)  \n",
    "\n",
    "end = time.time()\n",
    "parallel=(end - start)"
   ]
  },
  {
   "cell_type": "code",
   "execution_count": 38,
   "metadata": {
    "collapsed": true
   },
   "outputs": [],
   "source": [
    "one=np.array([[originalvar,parallelvar,originalvar/parallelvar]])\n",
    "two=np.array([[originalvar,parallelvar2,originalvar/parallelvar2]])\n",
    "three=np.array([[original,parallel,original/parallel]]) \n",
    "\n",
    "\n",
    "j=np.concatenate((one,two,three), axis=0)\n",
    "\n",
    "xx=['Variance', 'Variance II','Main Algorithm']\n",
    "j=pd.DataFrame(j,columns=['Original', 'Multiprocessing', 'Efficiency Ratio'],index=xx)\n",
    "Table1=j\n",
    "v=np.array([[bestvariance,mean,abs(bestvariance-mean)]])\n",
    "e=np.array([[bestvariance,varparallel2,abs(bestvariance-varparallel2)]])\n",
    "v=np.concatenate((v,e), axis=0)\n",
    "h=pd.DataFrame(v,columns=['Original', 'Multiprocessing', 'Difference'],index=['Variance','Variance II'])\n",
    "Table2=h"
   ]
  },
  {
   "cell_type": "markdown",
   "metadata": {},
   "source": [
    "### 4.3 Multiprocessing Results"
   ]
  },
  {
   "cell_type": "markdown",
   "metadata": {},
   "source": [
    "We tested whether using multiprocessing parallel programming optimizes our algorithm. To begin, we first tested our variance function and compared it to the multiprocessing method which split the datasets up and the results are below (Table 1: Variance). We also tested our original variance function and compared it to the multiproccessing method where we partitioned the array of variances to minimize distortion. The results of this method (Variance II) are below. Finally, we compared our main algorithm with one where we split up the datasets using parallel programming. This method has its drawbacks, especially if the dataset is small, as we lose information which could aid in training the cluster centers. However, this problem should decrease in impact as the sample size increases. Table 1 shows the times of each method and the efficiency ratio, comparing the original method with the multiprocessing one. It looks like all multiprocessing methods improve efficiency. It may be useful to simulate these results to find a stable efficiency ratio, but it appears that the second method of finding an optimal variance, where we split up the array of variances, is slightly better than splitting up the dataset. There is about a 3x improvement in speed using the multiprocessing method. Further, using multiprocessing for our main algorithm increases efficiency by approximately 84%. This however should be observed and used with caution, as there may be significant loss of information and incorrect clustering, especially with large datasets. \n",
    "\n",
    "We found the optimal variance using our original function, and two multiprocessing parallel programming method: one in which we split up the dataset, and one where we split up the array of variances to test. The former method has some drawbacks, especially if the dataset is small, because the dataset is split up. The latter method is expected to result in the same variance. Table 2 below shows the optimal variances that are found using both methods. It looks like the variance found using the first method results in a 0.056477 difference. This number should decrease with a larger dataset. However, the second method resulted in the same optimal variance as using the original function, suggesting practically there is not a significant difference between the two. \n",
    "\n",
    "Although multiprocessing methods helped all of our algorithms, we must use it with caution, as this kind of data is not particularly suitable for parallel programming. However, using multiprocessing to find variance is both quicker and does not have significant drawbacks, if we use the second method where we split up the array of variances to find one that results in lowest distortion. "
   ]
  },
  {
   "cell_type": "code",
   "execution_count": 39,
   "metadata": {
    "collapsed": false
   },
   "outputs": [
    {
     "name": "stdout",
     "output_type": "stream",
     "text": [
      "Table 1: Times and Efficiency Ratio Using Original and Multiprocessing Methods\n"
     ]
    },
    {
     "data": {
      "text/html": [
       "<div>\n",
       "<table border=\"1\" class=\"dataframe\">\n",
       "  <thead>\n",
       "    <tr style=\"text-align: right;\">\n",
       "      <th></th>\n",
       "      <th>Original</th>\n",
       "      <th>Multiprocessing</th>\n",
       "      <th>Efficiency Ratio</th>\n",
       "    </tr>\n",
       "  </thead>\n",
       "  <tbody>\n",
       "    <tr>\n",
       "      <th>Variance</th>\n",
       "      <td>21.633130</td>\n",
       "      <td>8.867239</td>\n",
       "      <td>2.439669</td>\n",
       "    </tr>\n",
       "    <tr>\n",
       "      <th>Variance II</th>\n",
       "      <td>21.633130</td>\n",
       "      <td>7.756898</td>\n",
       "      <td>2.788889</td>\n",
       "    </tr>\n",
       "    <tr>\n",
       "      <th>Main Algorithm</th>\n",
       "      <td>0.208835</td>\n",
       "      <td>0.148140</td>\n",
       "      <td>1.409714</td>\n",
       "    </tr>\n",
       "  </tbody>\n",
       "</table>\n",
       "</div>"
      ],
      "text/plain": [
       "                 Original  Multiprocessing  Efficiency Ratio\n",
       "Variance        21.633130         8.867239          2.439669\n",
       "Variance II     21.633130         7.756898          2.788889\n",
       "Main Algorithm   0.208835         0.148140          1.409714"
      ]
     },
     "execution_count": 39,
     "metadata": {},
     "output_type": "execute_result"
    }
   ],
   "source": [
    "print('Table 1: Times and Efficiency Ratio Using Original and Multiprocessing Methods')\n",
    "Table1"
   ]
  },
  {
   "cell_type": "code",
   "execution_count": 40,
   "metadata": {
    "collapsed": false
   },
   "outputs": [
    {
     "name": "stdout",
     "output_type": "stream",
     "text": [
      "Table 2: Variances found using Original and Two Multiprocessing Methods and Difference Between the Two\n"
     ]
    },
    {
     "data": {
      "text/html": [
       "<div>\n",
       "<table border=\"1\" class=\"dataframe\">\n",
       "  <thead>\n",
       "    <tr style=\"text-align: right;\">\n",
       "      <th></th>\n",
       "      <th>Original</th>\n",
       "      <th>Multiprocessing</th>\n",
       "      <th>Difference</th>\n",
       "    </tr>\n",
       "  </thead>\n",
       "  <tbody>\n",
       "    <tr>\n",
       "      <th>Variance</th>\n",
       "      <td>0.28101</td>\n",
       "      <td>0.337487</td>\n",
       "      <td>0.056477</td>\n",
       "    </tr>\n",
       "    <tr>\n",
       "      <th>Variance II</th>\n",
       "      <td>0.28101</td>\n",
       "      <td>0.281010</td>\n",
       "      <td>0.000000</td>\n",
       "    </tr>\n",
       "  </tbody>\n",
       "</table>\n",
       "</div>"
      ],
      "text/plain": [
       "             Original  Multiprocessing  Difference\n",
       "Variance      0.28101         0.337487    0.056477\n",
       "Variance II   0.28101         0.281010    0.000000"
      ]
     },
     "execution_count": 40,
     "metadata": {},
     "output_type": "execute_result"
    }
   ],
   "source": [
    "print('Table 2: Variances found using Original and Two Multiprocessing Methods and Difference Between the Two')\n",
    "Table2"
   ]
  },
  {
   "cell_type": "markdown",
   "metadata": {},
   "source": [
    "## 5. Application of Algorithm and Comparison "
   ]
  },
  {
   "cell_type": "markdown",
   "metadata": {},
   "source": [
    "We compare our algorithm, which includes the dual integration of spectral clustering with K-means algorithm, with the two algorithms--Spectral Clustering in sklearn and K-means executed on the data directly. We used various challenging machine learning problems, including making noisy circles, making moons, and making blobs using the module 'sklearn'. \n",
    "We look at the accuray of the algorithms with the true cluster value and compare the results. Spectral clustering from the sklearn module uses eigenvalues on the normalized matrix of the data from an affinity matrix that uses a Gaussian kernel function of the euclidean distance, and then it uses K-means to cluster. Essnetially the method is similar to our own, but there are nuances regarding the affinity and Laplacian matrices which differ in our algorithm. K-means clustering on its own attempts to find clusters by finding the cluster centers which minimize the within-cluster sum of squares. The observations are then assigned to the clusters by determining which clusters' center is closest to the observations data points. "
   ]
  },
  {
   "cell_type": "code",
   "execution_count": 41,
   "metadata": {
    "collapsed": true
   },
   "outputs": [],
   "source": [
    "n_samples = 100\n",
    "noisy_circles= datasets.make_circles(n_samples=n_samples, factor=.4,\n",
    "                                      noise=.05,random_state=2)\n",
    "\n",
    "noisy_moons = datasets.make_moons(n_samples=n_samples, noise=.05,random_state=26)\n",
    "blobs = datasets.make_blobs(n_samples=n_samples, random_state=8)\n",
    "no_structure = np.random.rand(n_samples, 2), None\n",
    "\n",
    "datasetss = [noisy_circles, noisy_moons, blobs, no_structure]\n",
    "def accuracy():\n",
    "    a=[]\n",
    "    for i in range(s.shape[0]):\n",
    "        if y[i]==clusters[i] :\n",
    "            a.append(1)\n",
    "        else:\n",
    "            a.append(0)\n",
    "    return(sum(a)/len(a))"
   ]
  },
  {
   "cell_type": "code",
   "execution_count": 42,
   "metadata": {
    "collapsed": false
   },
   "outputs": [],
   "source": [
    "s,y=datasetss[0]\n",
    "k = 2\n",
    "final,centers,clusters=finalclustering(s,k,var=.04,seed=64)\n",
    "ownone=final[:,2]\n",
    "our_one=accuracy()\n",
    "kmeans=sc.KMeans(n_clusters=k, max_iter=100,random_state=77)\n",
    "kmeans.fit(s)\n",
    "data=kmeans.cluster_centers_\n",
    "clusters=kmeans.labels_\n",
    "kmeansone=clusters\n",
    "kmeans_one=accuracy()\n",
    "spectral=sc.SpectralClustering(n_clusters=k,random_state=665)\n",
    "spectral.fit(s)\n",
    "clusters=spectral.fit_predict(s)\n",
    "spectral_one=accuracy()  \n",
    "spectralone=clusters"
   ]
  },
  {
   "cell_type": "code",
   "execution_count": 43,
   "metadata": {
    "collapsed": false
   },
   "outputs": [],
   "source": [
    "s,y=datasetss[1]\n",
    "k = 2\n",
    "final,centers,clusters=finalclustering(s,k,var=2.47,seed=43)\n",
    "owntwo=final[:,2]\n",
    "our_two=accuracy() \n",
    "kmeans=sc.KMeans(n_clusters=k, max_iter=100,random_state=77)\n",
    "kmeans.fit(s)\n",
    "data=kmeans.cluster_centers_\n",
    "clusters=kmeans.labels_\n",
    "kmeanstwo=clusters\n",
    "kmeans_two=accuracy()\n",
    "spectral=sc.SpectralClustering(n_clusters=k,random_state=665)\n",
    "spectral.fit(s)\n",
    "clusters=spectral.fit_predict(s)\n",
    "spectral_two=accuracy()  \n",
    "spectraltwo=clusters"
   ]
  },
  {
   "cell_type": "code",
   "execution_count": 44,
   "metadata": {
    "collapsed": false
   },
   "outputs": [],
   "source": [
    "s,y=datasetss[2]\n",
    "k = 3\n",
    "final,centers,clusters=finalclustering(s,k,var=3,seed=44)\n",
    "ownthree=final[:,2]\n",
    "our_three=accuracy()\n",
    "kmeans=sc.KMeans(n_clusters=3, max_iter=100,random_state=49)\n",
    "kmeans.fit(s)\n",
    "data=kmeans.cluster_centers_\n",
    "clusters=kmeans.labels_\n",
    "kmeansthree=clusters\n",
    "kmeans_three=accuracy() \n",
    "spectral=sc.SpectralClustering(n_clusters=3,random_state=93)\n",
    "spectral.fit(s)\n",
    "clusters=spectral.fit_predict(s)\n",
    "spectralthree=clusters\n",
    "spectral_three=accuracy()"
   ]
  },
  {
   "cell_type": "code",
   "execution_count": 45,
   "metadata": {
    "collapsed": false
   },
   "outputs": [],
   "source": [
    "one=np.array([[our_one,kmeans_one,spectral_one]])*100\n",
    "two=np.array([[our_two,kmeans_two,spectral_two]])*100\n",
    "three=np.array([[our_three,kmeans_three,spectral_three]])*100\n",
    "\n",
    "j=np.concatenate((one,two,three), axis=0)\n",
    "\n",
    "xx=['Circles', 'Moons', 'Blobs']\n",
    "j=pd.DataFrame(j,columns=['Spectral-Kmeans', 'Kmeans-only', 'Spectral using sklearn'],index=xx)\n",
    "Table3=j"
   ]
  },
  {
   "cell_type": "markdown",
   "metadata": {},
   "source": [
    "### 5.1 Results of Comparison"
   ]
  },
  {
   "cell_type": "markdown",
   "metadata": {},
   "source": [
    "#### Accuracy rates "
   ]
  },
  {
   "cell_type": "markdown",
   "metadata": {},
   "source": [
    "The following table presents the results of comparing our Spectral Clustering-K-means algorithm with Spectral Clustering and K-means only. The results in Table 3 show that for datasets with circles, our algorithm outperforms the other two algorithms on their own. Further, classifying moons is challenging and similar in results for all three methods, suggesting this type of dataset is particularly challenging for both K-means and Spectral Clustering, in addition to the integration of the two. Finally, looking at datasets which include blobs for clusters, both our algorithm and K-means performed well. However, spectral clustering on its own had a small number of misclassifications. This is visually shown in Figure 1."
   ]
  },
  {
   "cell_type": "code",
   "execution_count": 46,
   "metadata": {
    "collapsed": false
   },
   "outputs": [
    {
     "name": "stdout",
     "output_type": "stream",
     "text": [
      "Figure 1\n"
     ]
    },
    {
     "data": {
      "image/png": "[encoded data removed]",
      "text/plain": [
       "<matplotlib.figure.Figure at 0x7fa5e5c8d1d0>"
      ]
     },
     "metadata": {},
     "output_type": "display_data"
    }
   ],
   "source": [
    "print ('Figure 1')\n",
    "fig, axes = plt.subplots(nrows=3, ncols=3,figsize=(13,9))\n",
    "\n",
    "\n",
    "s,y=datasetss[0]\n",
    "axes[0,0].scatter(s[:,0],s[:,1],c=ownone,cmap=cm.rainbow)\n",
    "axes[0,0].set_title('Spectral-Kmeans',size=12)\n",
    "axes[0,0].set_ylabel('Circles',size=12)\n",
    "axes[0,1].scatter(s[:,0],s[:,1],c=kmeansone,cmap=cm.rainbow)\n",
    "axes[0,1].set_title('Kmeans only',size=12)\n",
    "axes[1,0].set_ylabel('Moons',size=12)\n",
    "axes[0,2].scatter(s[:,0],s[:,1],c=spectralone,cmap=cm.rainbow)\n",
    "axes[0,2].set_title('Spectral using sklearn',size=12)\n",
    "axes[2,0].set_ylabel('Blobs',size=12)\n",
    "s,y=datasetss[1]\n",
    "axes[1,0].scatter(s[:,0],s[:,1],c=owntwo,cmap=cm.rainbow)\n",
    "axes[1,1].scatter(s[:,0],s[:,1],c=kmeanstwo,cmap=cm.rainbow)\n",
    "axes[1,2].scatter(s[:,0],s[:,1],c=spectraltwo,cmap=cm.rainbow)\n",
    "s,y=datasetss[2]\n",
    "axes[2,0].scatter(s[:,0],s[:,1],c=ownthree,cmap=cm.rainbow)\n",
    "axes[2,1].scatter(s[:,0],s[:,1],c=kmeansthree,cmap=cm.rainbow)\n",
    "axes[2,2].scatter(s[:,0],s[:,1],c=spectralthree,cmap=cm.rainbow)\n",
    "\n",
    "plt.suptitle('Clustering of Challenging Datasets by Algorithm',size=16)\n",
    "\n",
    "fig.tight_layout()\n",
    "fig.subplots_adjust(top=0.90)"
   ]
  },
  {
   "cell_type": "code",
   "execution_count": 47,
   "metadata": {
    "collapsed": false
   },
   "outputs": [
    {
     "name": "stdout",
     "output_type": "stream",
     "text": [
      "Table 3: Accuracy in % of each Method by Dataset\n"
     ]
    },
    {
     "data": {
      "text/html": [
       "<div>\n",
       "<table border=\"1\" class=\"dataframe\">\n",
       "  <thead>\n",
       "    <tr style=\"text-align: right;\">\n",
       "      <th></th>\n",
       "      <th>Spectral-Kmeans</th>\n",
       "      <th>Kmeans-only</th>\n",
       "      <th>Spectral using sklearn</th>\n",
       "    </tr>\n",
       "  </thead>\n",
       "  <tbody>\n",
       "    <tr>\n",
       "      <th>Circles</th>\n",
       "      <td>100</td>\n",
       "      <td>50</td>\n",
       "      <td>50</td>\n",
       "    </tr>\n",
       "    <tr>\n",
       "      <th>Moons</th>\n",
       "      <td>73</td>\n",
       "      <td>26</td>\n",
       "      <td>77</td>\n",
       "    </tr>\n",
       "    <tr>\n",
       "      <th>Blobs</th>\n",
       "      <td>100</td>\n",
       "      <td>100</td>\n",
       "      <td>90</td>\n",
       "    </tr>\n",
       "  </tbody>\n",
       "</table>\n",
       "</div>"
      ],
      "text/plain": [
       "         Spectral-Kmeans  Kmeans-only  Spectral using sklearn\n",
       "Circles              100           50                      50\n",
       "Moons                 73           26                      77\n",
       "Blobs                100          100                      90"
      ]
     },
     "execution_count": 47,
     "metadata": {},
     "output_type": "execute_result"
    }
   ],
   "source": [
    "print('Table 3: Accuracy in % of each Method by Dataset')\n",
    "Table3"
   ]
  },
  {
   "cell_type": "markdown",
   "metadata": {},
   "source": [
    "## 6. Discussion and Conclusion"
   ]
  },
  {
   "cell_type": "markdown",
   "metadata": {
    "collapsed": true
   },
   "source": [
    "In our report, we recreated the algorithm outlined in (Ng et al, 2002) using Python [1]. We tested our method to ascertain its effectiveness which showed it was in fact. Then we tried to optimize our algorithm using both jit and cython. Jit did not improve the computation time, but using Cython did moderately speed up the process. This was used only on our main algorithm function, and not to the variance-finder function. The reason why the speed up using JIT and Cython is not ideal might be that our functions are heavily based on numpy and scipy but not nested for loops, so numba and Cython can not do much. However, we did try to optimize both our main algorithm and the optimal variance-finder function using multiprocessing parallel computing. This proved to be a worthwhile endeavor as it improved the computation time of our algorithm. The drawbacks of the method were discussed previously, but we essentially lost information by splitting up the datasets. However, in one of our optimization methods, where we split up the array of variances tested, the variance function improved substantially and did not result in a loss of information. This result, in addition to our Cython improvement allows us to recommend using Cython for the main algorithm and our multiprocessing parallelism method to find optimal variance. This is particularly useful if the dataset is large, otherwise it may be more efficient to simply use the Python functions.\n",
    "\n",
    "We additionally applied the algorithm to a number of challenging clustering problems and compared our algorithm to the spectral clustering method in the module $sklearn$ and applying K-means directly to the data. From the three challenging problems we faced, our algorithm performed better in accumulation than the other two. Recall that the spectral clustering method using in $sklearn$ is very similar to ours, but uses different affinity and Laclanian matrices. This suggests that nuanced differences in calculation of the matrices can result in a large fall in accuracy. Of course, we would need to do a large simulation study to test whether this observation is consistent. \n",
    "\n",
    "There are a few limitations in our methodology that have been observed. One is that finding an optimal variance can be very computationally expensive because it essentially means you have to run the algorithm many times, and given a large dataset, it could take a very long time. Using the multiprocessing method can decrease the time, but may still be inefficient. One suggestion would be to draw a random sample of the data that is sufficiently small yet informative and run the multiprocessing method using that sample. This will certainly lose some information, but if the data is randomly selected, the variance should be close to the optimal one, and it would be much more computationally efficient. Another limitation is that we did not do a simulation study and we cannot confirm our accuracy rates, or the efficiency ratios using a large scale. Our report, however, did illustrate that the algorithm works precisely and certain methods have helped improve the computation time. In future research, it would be useful to simulate our results and to verify our accuracy rates and efficiency ratios. Finally, it could be useful to see how our algorithm performs relative to the other methods we tried using larger datasets and more challenging datasets.  "
   ]
  },
  {
   "cell_type": "markdown",
   "metadata": {},
   "source": [
    "## References"
   ]
  },
  {
   "cell_type": "markdown",
   "metadata": {},
   "source": [
    "#### 1. Ng, Andrew Y., Michael I. Jordan, and Yair Weiss. \"On spectral clustering: Analysis and an algorithm.\" Advances in neural information processing systems 2 (2002): 849-856.\n",
    "\n",
    "#### 2. Von Luxburg, Ulrike. \"A tutorial on spectral clustering.\" Statistics and computing 17.4 (2007): 395-416.\n",
    "\n",
    "#### 3. Merris, Russell. \"Laplacian matrices of graphs: a survey.\" Linear algebra and its applications 197 (1994): 143-176."
   ]
  }
 ],
 "metadata": {
  "kernelspec": {
   "display_name": "Python 3",
   "language": "python",
   "name": "python3"
  },
  "language_info": {
   "codemirror_mode": {
    "name": "ipython",
    "version": 3
   },
   "file_extension": ".py",
   "mimetype": "text/x-python",
   "name": "python",
   "nbconvert_exporter": "python",
   "pygments_lexer": "ipython3",
   "version": "3.4.4"
  }
 },
 "nbformat": 4,
 "nbformat_minor": 0
}
